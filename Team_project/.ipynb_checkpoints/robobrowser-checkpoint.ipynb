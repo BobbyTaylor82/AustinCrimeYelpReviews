{
 "cells": [
  {
   "cell_type": "code",
   "execution_count": 1,
   "metadata": {
    "collapsed": true
   },
   "outputs": [],
   "source": [
    "from robobrowser import RoboBrowser\n",
    "import pandas as pd\n",
    "import os\n",
    "import requests\n",
    "import warnings\n",
    "warnings.filterwarnings('ignore')\n",
    "import pprint\n",
    "import re\n",
    "from bs4 import BeautifulSoup"
   ]
  },
  {
   "cell_type": "code",
   "execution_count": 24,
   "metadata": {
    "collapsed": true
   },
   "outputs": [],
   "source": [
    "#<form class=\"analysis-form\" action=\"/analyze\" accept-charset=\"UTF-8\" data-remote=\"true\" method=\"get\"><input name=\"utf8\" type=\"hidden\" value=\"✓\"><div class=\"col-xs-12 col-sm-10 card-section\"><input type=\"text\" name=\"url\" id=\"url\" size=\"125\" class=\"form-control url-input-field\" placeholder=\"Paste any Amazon product, Yelp business or Apple App Store page here\"></div><div class=\"col-xs-4 col-sm-2 text-right hero-button-container\"><input type=\"submit\" name=\"commit\" value=\"Analyze\" class=\"btn btn-info call-to-action submit-button btn-block\"></div></form>"
   ]
  },
  {
   "cell_type": "code",
   "execution_count": null,
   "metadata": {
    "collapsed": true
   },
   "outputs": [],
   "source": []
  },
  {
   "cell_type": "code",
   "execution_count": 64,
   "metadata": {
    "collapsed": true
   },
   "outputs": [],
   "source": [
    "for row,index in df_Yelp.itterow():\n",
    "    different_url = row['Yelp_url']\n",
    "    \n",
    "    \n",
    "    br = RoboBrowser()\n",
    "    br.open(\"https://www.fakespot.com\")\n",
    "    form = br.get_form()\n",
    "    form['url'].value = different_url\n",
    "    br.submit_form(form)\n",
    "    src = br.get_links\n",
    "    \n",
    "    df_yelp.set_value(index,'Analyze_URl',src)"
   ]
  },
  {
   "cell_type": "code",
   "execution_count": 2,
   "metadata": {
    "collapsed": true
   },
   "outputs": [],
   "source": [
    "br = RoboBrowser()\n",
    "br.open(\"https://www.fakespot.com\")\n",
    "form = br.get_form()\n",
    "    \n",
    "form['url'].value = 'https://www.yelp.com/biz/urban-mattress-south-austin-austin-2?hrid=pBFCXwUrSfK2fu7HUzJp7A&adjust_creative=acsWZVrkgYT2pceSbVY3SA&utm_campaign=yelp_api_v3&utm_medium=api_v3_business_reviews&utm_source=acsWZVrkgYT2pceSbVY3SA'\n",
    "br.submit_form(form)\n",
    "src = br\n",
    "    \n",
    "    "
   ]
  },
  {
   "cell_type": "code",
   "execution_count": 3,
   "metadata": {},
   "outputs": [
    {
     "name": "stdout",
     "output_type": "stream",
     "text": [
      "<RoboBrowser url=https://www.fakespot.com/analyze?utf8=%E2%9C%93&url=https%3A%2F%2Fwww.yelp.com%2Fbiz%2Furban-mattress-south-austin-austin-2%3Fhrid%3DpBFCXwUrSfK2fu7HUzJp7A%26adjust_creative%3DacsWZVrkgYT2pceSbVY3SA%26utm_campaign%3Dyelp_api_v3%26utm_medium%3Dapi_v3_business_reviews%26utm_source%3DacsWZVrkgYT2pceSbVY3SA&commit=Analyze>\n"
     ]
    }
   ],
   "source": [
    "print(src)"
   ]
  },
  {
   "cell_type": "code",
   "execution_count": 105,
   "metadata": {
    "collapsed": true
   },
   "outputs": [],
   "source": [
    "br_1= RoboBrowser()\n",
    "br_1.open(\"https://www.fakespot.com/analyze?utf8=%E2%9C%93&url=https%3A%2F%2Fwww.yelp.com%2Fbiz%2Furban-mattress-south-austin-austin-2%3Fhrid%3DpBFCXwUrSfK2fu7HUzJp7A%26adjust_creative%3DacsWZVrkgYT2pceSbVY3SA%26utm_campaign%3Dyelp_api_v3%26utm_medium%3Dapi_v3_business_reviews%26utm_source%3DacsWZVrkgYT2pceSbVY3SA&commit=Analyze>>\")\n"
   ]
  },
  {
   "cell_type": "code",
   "execution_count": null,
   "metadata": {
    "collapsed": true
   },
   "outputs": [],
   "source": [
    "https://www.fakespot.com/analyze?utf8=%E2%9C%93&url=https%3A%2F%2Fwww.yelp.com%2Fbiz%2Fhealthy-pet-austin"
   ]
  },
  {
   "cell_type": "code",
   "execution_count": 66,
   "metadata": {},
   "outputs": [
    {
     "name": "stdout",
     "output_type": "stream",
     "text": [
      "<bound method RoboBrowser.get_links of <RoboBrowser url=https://www.fakespot.com/analyze?utf8=%E2%9C%93&url=https%3A%2F%2Fwww.yelp.com%2Fbiz%2Fhealthy-pet-austin%3Fhrid%3DHDh7mtrqQQdRWenbpGMYQg%26adjust_creative%3DacsWZVrkgYT2pceSbVY3SA%26utm_campaign%3Dyelp_api_v3%26utm_medium%3Dapi_v3_business_reviews%26utm_source%3DacsWZVrkgYT2pceSbVY3SA&commit=Analyze>>\n"
     ]
    }
   ],
   "source": [
    "print(str(src))"
   ]
  },
  {
   "cell_type": "code",
   "execution_count": 149,
   "metadata": {
    "collapsed": true
   },
   "outputs": [],
   "source": [
    "r = requests.get(\"https://www.fakespot.com/healthy-pet-austin\")"
   ]
  },
  {
   "cell_type": "code",
   "execution_count": 150,
   "metadata": {},
   "outputs": [
    {
     "data": {
      "text/plain": [
       "<Response [404]>"
      ]
     },
     "execution_count": 150,
     "metadata": {},
     "output_type": "execute_result"
    }
   ],
   "source": [
    "r"
   ]
  },
  {
   "cell_type": "code",
   "execution_count": 122,
   "metadata": {},
   "outputs": [
    {
     "data": {
      "text/plain": [
       "b'<!DOCTYPE html><html><head>\\n<script type=\"text/javascript\">window.NREUM||(NREUM={});NREUM.info={\"beacon\":\"bam.nr-data.net\",\"errorBeacon\":\"bam.nr-data.net\",\"licenseKey\":\"a25ebce81f\",\"applicationID\":\"30984333\",\"transactionName\":\"cQleRhdeDlQHQh1LXV4WH1AQQgtWB0NBV0sdFVhdEg==\",\"queueTime\":0,\"applicationTime\":67,\"agent\":\"\"}</script>\\n<script type=\"text/javascript\">window.NREUM||(NREUM={}),__nr_require=function(e,t,n){function r(n){if(!t[n]){var o=t[n]={exports:{}};e[n][0].call(o.exports,function(t){var o=e[n][1][t];return r(o||t)},o,o.exports)}return t[n].exports}if(\"function\"==typeof __nr_require)return __nr_require;for(var o=0;o<n.length;o++)r(n[o]);return r}({1:[function(e,t,n){function r(){}function o(e,t,n){return function(){return i(e,[f.now()].concat(u(arguments)),t?null:this,n),t?void 0:this}}var i=e(\"handle\"),a=e(2),u=e(3),c=e(\"ee\").get(\"tracer\"),f=e(\"loader\"),s=NREUM;\"undefined\"==typeof window.newrelic&&(newrelic=s);var p=[\"setPageViewName\",\"setCustomAttribute\",\"setErrorHandler\",\"finished\",\"addToTrace\",\"inlineHit\",\"addRelease\"],d=\"api-\",l=d+\"ixn-\";a(p,function(e,t){s[t]=o(d+t,!0,\"api\")}),s.addPageAction=o(d+\"addPageAction\",!0),s.setCurrentRouteName=o(d+\"routeName\",!0),t.exports=newrelic,s.interaction=function(){return(new r).get()};var m=r.prototype={createTracer:function(e,t){var n={},r=this,o=\"function\"==typeof t;return i(l+\"tracer\",[f.now(),e,n],r),function(){if(c.emit((o?\"\":\"no-\")+\"fn-start\",[f.now(),r,o],n),o)try{return t.apply(this,arguments)}catch(e){throw c.emit(\"fn-err\",[arguments,this,e],n),e}finally{c.emit(\"fn-end\",[f.now()],n)}}}};a(\"setName,setAttribute,save,ignore,onEnd,getContext,end,get\".split(\",\"),function(e,t){m[t]=o(l+t)}),newrelic.noticeError=function(e){\"string\"==typeof e&&(e=new Error(e)),i(\"err\",[e,f.now()])}},{}],2:[function(e,t,n){function r(e,t){var n=[],r=\"\",i=0;for(r in e)o.call(e,r)&&(n[i]=t(r,e[r]),i+=1);return n}var o=Object.prototype.hasOwnProperty;t.exports=r},{}],3:[function(e,t,n){function r(e,t,n){t||(t=0),\"undefined\"==typeof n&&(n=e?e.length:0);for(var r=-1,o=n-t||0,i=Array(o<0?0:o);++r<o;)i[r]=e[t+r];return i}t.exports=r},{}],4:[function(e,t,n){t.exports={exists:\"undefined\"!=typeof window.performance&&window.performance.timing&&\"undefined\"!=typeof window.performance.timing.navigationStart}},{}],ee:[function(e,t,n){function r(){}function o(e){function t(e){return e&&e instanceof r?e:e?c(e,u,i):i()}function n(n,r,o,i){if(!d.aborted||i){e&&e(n,r,o);for(var a=t(o),u=m(n),c=u.length,f=0;f<c;f++)u[f].apply(a,r);var p=s[y[n]];return p&&p.push([b,n,r,a]),a}}function l(e,t){v[e]=m(e).concat(t)}function m(e){return v[e]||[]}function w(e){return p[e]=p[e]||o(n)}function g(e,t){f(e,function(e,n){t=t||\"feature\",y[n]=t,t in s||(s[t]=[])})}var v={},y={},b={on:l,emit:n,get:w,listeners:m,context:t,buffer:g,abort:a,aborted:!1};return b}function i(){return new r}function a(){(s.api||s.feature)&&(d.aborted=!0,s=d.backlog={})}var u=\"nr@context\",c=e(\"gos\"),f=e(2),s={},p={},d=t.exports=o();d.backlog=s},{}],gos:[function(e,t,n){function r(e,t,n){if(o.call(e,t))return e[t];var r=n();if(Object.defineProperty&&Object.keys)try{return Object.defineProperty(e,t,{value:r,writable:!0,enumerable:!1}),r}catch(i){}return e[t]=r,r}var o=Object.prototype.hasOwnProperty;t.exports=r},{}],handle:[function(e,t,n){function r(e,t,n,r){o.buffer([e],r),o.emit(e,t,n)}var o=e(\"ee\").get(\"handle\");t.exports=r,r.ee=o},{}],id:[function(e,t,n){function r(e){var t=typeof e;return!e||\"object\"!==t&&\"function\"!==t?-1:e===window?0:a(e,i,function(){return o++})}var o=1,i=\"nr@id\",a=e(\"gos\");t.exports=r},{}],loader:[function(e,t,n){function r(){if(!x++){var e=h.info=NREUM.info,t=d.getElementsByTagName(\"script\")[0];if(setTimeout(s.abort,3e4),!(e&&e.licenseKey&&e.applicationID&&t))return s.abort();f(y,function(t,n){e[t]||(e[t]=n)}),c(\"mark\",[\"onload\",a()+h.offset],null,\"api\");var n=d.createElement(\"script\");n.src=\"https://\"+e.agent,t.parentNode.insertBefore(n,t)}}function o(){\"complete\"===d.readyState&&i()}function i(){c(\"mark\",[\"domContent\",a()+h.offset],null,\"api\")}function a(){return E.exists&&performance.now?Math.round(performance.now()):(u=Math.max((new Date).getTime(),u))-h.offset}var u=(new Date).getTime(),c=e(\"handle\"),f=e(2),s=e(\"ee\"),p=window,d=p.document,l=\"addEventListener\",m=\"attachEvent\",w=p.XMLHttpRequest,g=w&&w.prototype;NREUM.o={ST:setTimeout,SI:p.setImmediate,CT:clearTimeout,XHR:w,REQ:p.Request,EV:p.Event,PR:p.Promise,MO:p.MutationObserver};var v=\"\"+location,y={beacon:\"bam.nr-data.net\",errorBeacon:\"bam.nr-data.net\",agent:\"js-agent.newrelic.com/nr-1071.min.js\"},b=w&&g&&g[l]&&!/CriOS/.test(navigator.userAgent),h=t.exports={offset:u,now:a,origin:v,features:{},xhrWrappable:b};e(1),d[l]?(d[l](\"DOMContentLoaded\",i,!1),p[l](\"load\",r,!1)):(d[m](\"onreadystatechange\",o),p[m](\"onload\",r)),c(\"mark\",[\"firstbyte\",u],null,\"api\");var x=0,E=e(4)},{}]},{},[\"loader\"]);</script><link rel=\"stylesheet\" media=\"all\" href=\"/assets/application-1b2a4fd8404c50edc412c99105cd68f7001844a8f7da941a5e369b41a99982dc.css\" data-turbolinks-track=\"true\" /><script src=\"/assets/application-12c4610d9002bf9cd6484935147467767c19b6a7fa9f5a8977e87e1baadb4a1f.js\" data-turbolinks-track=\"true\" defer=\"defer\"></script><link rel=\"shortcut icon\" type=\"image/x-icon\" href=\"/assets/favicon-251163ac98676b7bd3c1a51b89472e352d604331580bc656cd98f86277426f31.ico\" /><link href=\"/assets/apple-touch-icon-8113624c6749f01f17541be134b2832306aceddc91296dca3594648750169a49.png\" rel=\"apple-touch-icon\" sizes=\"180x180\" /><link href=\"/assets/favicon-32x32-ef983c09045ed8ab84d6df52bb42f7ef44acdc49d544adea6e89f465227287cf.png\" rel=\"icon\" sizes=\"32x32\" type=\"image/png\" /><link href=\"/assets/favicon-16x16-14b6cff286eff060f2be0fdd43e908230b33542243c32e360ab0e8c7a52885d5.png\" rel=\"icon\" sizes=\"16x16\" type=\"image/png\" /><link href=\"/assets/manifest-cb9736ec0c4691a77df9b97e1595509aa92daa3ba516b927f4ed0af069f5781c.json\" rel=\"manifest\" /><link color=\"#5bbad5\" href=\"/assets/safari-pinned-tab-15cca0e3497a589cc4f4ab24553e49b5908ba90efd7445b839a89269ff6c7a1f.svg\" rel=\"mask-icon\" /><meta content=\"#ffffff\" name=\"theme-color\" /><meta content=\"width=device-width, initial-scale=1\" name=\"viewport\" /><meta content=\"g2c9kaNRz9C1NnStm2liLISsdyPaovi_yepN66Zofkg\" name=\"google-site-verification\" /><meta content=\"1YngG7ylXcwxWW5LjbGH2yvQqYNGUiByfPHLfuqixt0\" name=\"google-site-verification\" /><meta content=\"https://www.fakespot.com/assets/64x64-5faff49869d643c4a7865b8543a2dfc1d2a4d95760b43aeb54b7ad122767bb23.png\" property=\"og:image\" /><meta name=\"csrf-param\" content=\"authenticity_token\" />\\n<meta name=\"csrf-token\" content=\"DyqQT6RIm2Z2KT8rBat0+otfmU6P5OnrTKvdAjB24OIkVJD8PV56zE+xWd6B4zwFEeQg27bAuE6fw30DNzcTWQ==\" /><title>Fakespot | Throckmorton\\xe2\\x80\\x99s Fake Review Analysis</title>\\n<meta name=\"description\" content=\"Fake Review Analysis for Throckmorton\\xe2\\x80\\x99s\" /><script async src=\"//pagead2.googlesyndication.com/pagead/js/adsbygoogle.js\"></script>\\n<script>\\n    (adsbygoogle = window.adsbygoogle || []).push({\\n        google_ad_client: \"ca-pub-3620359483519245\",\\n        enable_page_level_ads: true\\n    });\\n</script></head><body><!-- Google Tag Manager -->\\n<noscript><iframe src=\"//www.googletagmanager.com/ns.html?id=GTM-TVPPVC\"\\n                  height=\"0\" width=\"0\" style=\"display:none;visibility:hidden\"></iframe></noscript>\\n<script>(function(w,d,s,l,i){w[l]=w[l]||[];w[l].push({\\'gtm.start\\':\\n        new Date().getTime(),event:\\'gtm.js\\'});var f=d.getElementsByTagName(s)[0],\\n        j=d.createElement(s),dl=l!=\\'dataLayer\\'?\\'&l=\\'+l:\\'\\';j.async=true;j.src=\\n        \\'//www.googletagmanager.com/gtm.js?id=\\'+i+dl;f.parentNode.insertBefore(j,f);\\n})(window,document,\\'script\\',\\'dataLayer\\',\\'GTM-TVPPVC\\');</script>\\n<!-- End Google Tag Manager --><header><nav class=\"navbar navbar-default\"><div class=\"container-fluid\"><div class=\"navbar-header\"><div class=\"input-header-field hidden-md hidden-sm hidden-xs\"><form class=\"analysis-form\" action=\"/analyze\" accept-charset=\"UTF-8\" data-remote=\"true\" method=\"get\"><input name=\"utf8\" type=\"hidden\" value=\"&#x2713;\" /><div class=\"col-xs-12 col-sm-10 card-section\"><input type=\"text\" name=\"url\" id=\"url\" size=\"125\" class=\"form-control url-input-field\" placeholder=\"Paste any Amazon product, Yelp business or Apple App Store page here\" /></div><div class=\"col-xs-4 col-sm-2 text-right hero-button-container\"><input type=\"submit\" name=\"commit\" value=\"Analyze\" class=\"btn btn-info call-to-action submit-button btn-block\" /></div></form></div><div class=\"logo-container container mobile-logo col-xs-8\"><a class=\"col-sm-4\" href=\"/\"><img class=\"icon-image\" alt=\"Fakespot Header Logo\" src=\"/assets/logo-blue2-b0ad070308ca09743fe2024c7f0964176ec94751ea98f0f5d557d0b4b2c3a14f.png\" /></a></div><button aria-expanded=\"false\" class=\"navbar-toggle collapsed\" data-target=\"#bs-example-navbar-collapse-1\" data-toggle=\"collapse\" type=\"button\"><span class=\"sr-only\">Toggle navigation</span><span class=\"icon-bar\"></span><span class=\"icon-bar\"></span><span class=\"icon-bar\"></span></button></div><div class=\"collapse navbar-collapse\" id=\"bs-example-navbar-collapse-1\"><ul class=\"nav navbar-nav navbar-right\"><li><a href=\"/about\">About Us</a></li><li><a href=\"/companies\">Company Grades</a></li><li><a href=\"/best-products\">Best Sellers Analyzed</a></li><li><a href=\"/last-analysis\">Recently Analyzed</a></li></ul></div></div></nav></header><div class=\"row top\"><div class=\"logo-container container\"><a class=\"logo-main col-xs-12 col-sm-4\" href=\"/\"><img class=\"icon-image\" alt=\"Fakespot Header Logo\" src=\"/assets/logo-blue2-b0ad070308ca09743fe2024c7f0964176ec94751ea98f0f5d557d0b4b2c3a14f.png\" /></a><div class=\"ad col-xs-12 col-sm-8\"><style>\\n  .banner-wide { width: 300px; height: 90px; }\\n  .side-bar-long { width: 300px; height: 550px; }\\n  @media(min-width: 360px) { .banner-wide { width: 100%; height: 90px; } }\\n  @media(min-width: 500px) { .banner-wide { width: 100%; height: 90px; } }\\n  @media(min-width: 800px) { .banner-wide { width: 100%; height: 90px; } }\\n</style>\\n\\n<script async src=\"//pagead2.googlesyndication.com/pagead/js/adsbygoogle.js\"></script>\\n<div class=\"\">\\n  <!-- Fakespot -->\\n  <ins class=\"adsbygoogle banner-wide\"\\n       style=\"display:inline-block\"\\n       data-ad-client=\"ca-pub-3620359483519245\"\\n       data-ad-slot=\"6785478219\"\\n       data-ad-format=\"\"></ins>\\n</div>\\n\\n<script>\\n  (adsbygoogle = window.adsbygoogle || []).push({});\\n</script></div></div></div><div class=\"page-content\"><div class=\"frm-result-vis\" id=\"frm-result-yelp-74587\"><div class=\"container\"><div class=\"col-sm-8\"><div class=\"product-single\" itemscope=\"\" itemtype=\"http://schema.org/LocalBusiness\"><div class=\"card clearfix\"><div class=\"product-info-section row\"><div class=\"product-image-section col-sm-3\"><a target=\"_blank\" href=\"http://www.yelp.com/biz/throckmortons-austin\"><img id=\"product-image-74587\" class=\"product-image\" itemprop=\"image\" alt=\"Throckmorton\\xe2\\x80\\x99s\" src=\"/system/yelp/businesses/images/000/074/587/medium/ls.jpg?1512000592\" /></a></div><div class=\"product-data-section col-xs-9\"><h4><a target=\"_blank\" href=\"http://www.yelp.com/biz/throckmortons-austin\"><span class=\"product-link\" itemprop=\"name\">Throckmorton\\xe2\\x80\\x99s</span></a></h4><div class=\"row\"><div class=\"col-sm-5 text-left\"><div class=\"title\">Category</div><p>Watch Repair</p></div><div class=\"col-sm-5 text-left\"><div class=\"title\">Total Reviews</div><div class=\"label label-info\">98</div></div></div><div class=\"row\"></div><div class=\"row\"><div class=\"col-sm-5 text-left\"><div class=\"title\">Address</div><p class=\"company-name\">5716 W Hwy 290Ste 112 Austin TX 78735</p></div><div class=\"col-sm-5 text-left\"><div class=\"title\">Phone</div><p class=\"company-name\">(512) 495-9997</p></div></div></div></div><div class=\"product-analysis-section\"><hr /><div class=\"grade-mobile card-new clearfix\"><div class=\"grade-box badge grade-a\"><h3 class=\"lead-in-text grade-a\">Fakespot Grade</h3><div class=\"grade-rating font-grade-a\">A</div></div><br /></div><div class=\"analysis-details\" id=\"grade-74587\" itemprop=\"aggregateRating\" itemscope=\"\" itemtype=\"http://schema.org/AggregateRating\"><div class=\"row\"><div class=\"grade-result\"><div class=\"analysis-opinion-text\"><h3><img height=\"32px\" class=\"m-l-sm\" src=\"/assets/64x64-5faff49869d643c4a7865b8543a2dfc1d2a4d95760b43aeb54b7ad122767bb23.png\" alt=\"64x64\" />You can trust the reviews.</h3><span itemprop=\"ratingValue\" style=\"display:none\">100.0</span><span itemprop=\"bestRating\" style=\"display:none\">100</span><span itemprop=\"worstRating\" style=\"display:none\">0</span></div><hr><div class=\"analysis-wysk-section\"><h4>Analysis overview</h4><div class=\"analysis-wysk-list\"><div class=\"analysis-wysk-list-item\"><span><div class=\"row\"><div class=\"col-xs-1\"><i class=\"fa fa-square\"></i></div><div class=\"col-xs-9 margin-item-left\">Our engine has discovered that over <b>90%</b> high quality reviews are present.</div></div></span></div><div class=\"analysis-wysk-list-item\"><span><div class=\"row\"><div class=\"col-xs-1\"><i class=\"fa fa-square\"></i></div><div class=\"col-xs-9 margin-item-left\">Our engine detects that in general the reviewers have a <b>positive</b> sentiment.</div></div></span></div><div class=\"analysis-wysk-list-item\"><span><div class=\"row\"><div class=\"col-xs-1\"><i class=\"fa fa-square\"></i></div><div class=\"col-xs-9 margin-item-left\">Our engine has profiled the reviewer patterns and has determined that there is <b>minimal deception</b> involved.</div></div></span></div><div class=\"analysis-wysk-list-item\"><span><div class=\"row\"><div class=\"col-xs-1\"><i class=\"fa fa-square\"></i></div><div class=\"col-xs-9 margin-item-left\">The most used word by reviewers is <b>watch</b>.</div></div></span></div></div></div></hr><hr><div class=\"analysis-summary-section\"><h4>Reviews summary</h4><div class=\"analysis-summary-text\"><div class=\\'review_summary_points\\'><h5 class=\"summary_bullet_point\"><div class=\"row\"><div class=\"col-xs-1\"><i class=\"fa fa-square\"></i></div><div class=\"col-xs-9 margin-item-left\">If you have some of these earrings that you can\\'t wear (painful!), i suggest having throckmorton\\'s turn them into gorgeous earrings that you\\'ll enjoy wearing! very expensive engagement ring, to cheap but family heirloom rings for sizing and cleaning </div></div></h5><br><h5 class=\"summary_bullet_point\"><div class=\"row\"><div class=\"col-xs-1\"><i class=\"fa fa-square\"></i></div><div class=\"col-xs-9 margin-item-left\">They did a beautiful job of converting my mother-in-law\\'s clip earrings with precious stones into pierced earrings </div></div></h5></div><br></div></div></hr></div></div></div><div class=\"row card-section\"><div class=\"row card-section\"><div class=\"col-xs-12\"><style>\\n  .banner-wide { width: 300px; height: 90px; }\\n  .side-bar-long { width: 300px; height: 550px; }\\n  @media(min-width: 360px) { .banner-wide { width: 100%; height: 90px; } }\\n  @media(min-width: 500px) { .banner-wide { width: 100%; height: 90px; } }\\n  @media(min-width: 800px) { .banner-wide { width: 100%; height: 90px; } }\\n</style>\\n\\n<script async src=\"//pagead2.googlesyndication.com/pagead/js/adsbygoogle.js\"></script>\\n<div class=\"\">\\n  <!-- Fakespot -->\\n  <ins class=\"adsbygoogle banner-wide\"\\n       style=\"display:inline-block\"\\n       data-ad-client=\"ca-pub-3620359483519245\"\\n       data-ad-slot=\"6785478219\"\\n       data-ad-format=\"\"></ins>\\n</div>\\n\\n<script>\\n  (adsbygoogle = window.adsbygoogle || []).push({});\\n</script></div></div></div><br /><div class=\"analysis-tab-frame\"><br /><div class=\"tabbable\"><ul class=\"nav nav-pills nav-justified\"><li class=\" active\"><a href=\"#tab_74587_1\" data-toggle=\"tab\">Reviews Word Cloud</a></li></ul><div class=\"tab-content\"><br><div class=\"tab-pane active\" id=\"tab_74587_1\"><div class=\"wordData\" id=\"wordData-74587\">[[&quot;watch&quot;, 39], [&quot;ring&quot;, 37], [&quot;service&quot;, 21], [&quot;great&quot;, 16], [&quot;jewelry&quot;, 14], [&quot;throckmorton&#39;s&quot;, 13], [&quot;time&quot;, 12], [&quot;about&quot;, 11], [&quot;back&quot;, 11], [&quot;here&quot;, 10], [&quot;went&quot;, 9], [&quot;place&quot;, 9], [&quot;jeweler&quot;, 9], [&quot;new&quot;, 9], [&quot;shop&quot;, 9], [&quot;able&quot;, 8], [&quot;like&quot;, 8], [&quot;friendly&quot;, 8], [&quot;look&quot;, 7], [&quot;took&quot;, 7], [&quot;rolex&quot;, 7], [&quot;david&quot;, 7], [&quot;working&quot;, 7], [&quot;happy&quot;, 7], [&quot;how&quot;, 7], [&quot;other&quot;, 7], [&quot;business&quot;, 7], [&quot;work&quot;, 7], [&quot;staff&quot;, 7], [&quot;store&quot;, 6], [&quot;extremely&quot;, 6], [&quot;prices&quot;, 6], [&quot;battery&quot;, 6], [&quot;decided&quot;, 6], [&quot;water&quot;, 6], [&quot;told&quot;, 6], [&quot;repaired&quot;, 6], [&quot;best&quot;, 6], [&quot;said&quot;, 6], [&quot;fix&quot;, 6], [&quot;thockmorton&#39;s&quot;, 6], [&quot;diamond&quot;, 6], [&quot;rings&quot;, 6], [&quot;found&quot;, 6], [&quot;few&quot;, 5], [&quot;weeks&quot;, 5], [&quot;days&quot;, 5], [&quot;first&quot;, 5], [&quot;who&quot;, 5], [&quot;wife&quot;, 5], [&quot;need&quot;, 5], [&quot;repair&quot;, 5], [&quot;call&quot;, 5], [&quot;replacement&quot;, 5], [&quot;reviews&quot;, 5], [&quot;again&quot;, 5], [&quot;resized&quot;, 5], [&quot;servicing&quot;, 5], [&quot;her&quot;, 5], [&quot;well&quot;, 5], [&quot;size&quot;, 5], [&quot;brought&quot;, 5], [&quot;customer&quot;, 5], [&quot;good&quot;, 5], [&quot;professional&quot;, 5]]</div><div class=\"wordCloud\" id=\"wordCloud-74587\"></div></div></div></div></div></div></div></div></div><div class=\"col-sm-4 text-center\"><div class=\"grade-big card-new clearfix\"><div class=\"grade-box badge grade-a\"><h3 class=\"lead-in-text grade-a\">Fakespot Grade</h3><div class=\"grade-rating font-grade-a\">A</div></div></div><div class=\"analysis-share-links card-new clearfix\"><div class=\"vote_bx\" id=\"vote_box_74587\"><div>Do you agree with this analysis?</div><span class=\"vote-yes m-l-sm\"><a data-remote=\"true\" href=\"/vote?id=74587&amp;type=yelp&amp;vote=yes\"><i class=\"fa fa-thumbs-up\"></i></a></span><span class=\"vote-no m-l-sm\"><a data-remote=\"true\" href=\"/vote?id=74587&amp;type=yelp&amp;vote=no\"><i class=\"fa fa-thumbs-down\"></i></a></span></div><br /><span class=\"col-xs-12\">Share this analysis (<a href=\"http://www.fakespot.com/business/throckmorton-s\">direct link</a>)</span><div class=\\'social-share-button\\' data-title=\\'Throckmorton\\xe2\\x80\\x99s\\' data-img=\\'\\' data-url=\\'http://www.fakespot.com/yelp/business/throckmorton-s\\' data-desc=\\'Fakespot Analysis for Throckmorton\\xe2\\x80\\x99s\\'>\\n<a rel=\"nofollow \" data-site=\"twitter\" class=\"social-share-button-twitter\" onclick=\"return SocialShareButton.share(this);\" title=\"Share to Twitter\" href=\"#\"></a>\\n<a rel=\"nofollow \" data-site=\"facebook\" class=\"social-share-button-facebook\" onclick=\"return SocialShareButton.share(this);\" title=\"Share to Facebook\" href=\"#\"></a>\\n<a rel=\"nofollow \" data-site=\"google_plus\" class=\"social-share-button-google_plus\" onclick=\"return SocialShareButton.share(this);\" title=\"Share to Google+\" href=\"#\"></a>\\n<a rel=\"nofollow \" data-site=\"baidu\" class=\"social-share-button-baidu\" onclick=\"return SocialShareButton.share(this);\" title=\"Share to Baidu.com\" href=\"#\"></a>\\n<a rel=\"nofollow \" data-site=\"google_bookmark\" class=\"social-share-button-google_bookmark\" onclick=\"return SocialShareButton.share(this);\" title=\"Share to Google Bookmark\" href=\"#\"></a>\\n<a rel=\"nofollow \" data-site=\"delicious\" class=\"social-share-button-delicious\" onclick=\"return SocialShareButton.share(this);\" title=\"Share to Delicious\" href=\"#\"></a>\\n<a rel=\"nofollow \" data-site=\"tumblr\" class=\"social-share-button-tumblr\" onclick=\"return SocialShareButton.share(this);\" title=\"Share to Tumblr\" href=\"#\"></a>\\n<a rel=\"nofollow \" data-site=\"plurk\" class=\"social-share-button-plurk\" onclick=\"return SocialShareButton.share(this);\" title=\"Share to Plurk\" href=\"#\"></a>\\n<a rel=\"nofollow \" data-site=\"pinterest\" class=\"social-share-button-pinterest\" onclick=\"return SocialShareButton.share(this);\" title=\"Share to Pinterest\" href=\"#\"></a>\\n</div></div><br /><div class=\"product-analysis-advert\"><style>\\n  .banner-narrow { width: 300px; height: 250px; }\\n  @media(min-width: 360px) { .banner-narrow { width: 100%; height: 150px; } }\\n  @media(min-width: 500px) { .banner-narrow { width: 100%; height: 200px; } }\\n  @media(min-width: 800px) { .banner-narrow { width: 100%; height: 250px; } }\\n</style>\\n\\n<script async src=\"//pagead2.googlesyndication.com/pagead/js/adsbygoogle.js\"></script>\\n<!-- Fakespot Product Ad 3 -->\\n<ins class=\"adsbygoogle banner-narrow\"\\n     style=\"display:inline-block;\"\\n     data-ad-client=\"ca-pub-3620359483519245\"\\n     data-ad-slot=\"9610040615\"></ins>\\n<script>\\n    (adsbygoogle = window.adsbygoogle || []).push({});\\n</script></div></div></div></div></div><div class=\"frm-result\"></div><div id=\"loading-div-background\"><div id=\"loading-div\"><img class=\"loader-img\" src=\"/assets/ring-alt-5ad88c1317e462f39d17d24a2bed0246e822344bed0fb6ecd8220c1da651cda6.svg\" alt=\"Ring alt\" /></div></div><div class=\"footer\"><div class=\"container\"><div class=\"col-xs-12 col-sm-3 text-left\"><div class=\"footer-logo\"><img alt=\"FakeSpot check\" target=\"_blank\" src=\"/assets/footer_logo-8e0a9b4933fc800e9da00c89afb8c1abdd3c61aeacb66b19e3738f947ddc2655.png\" /></div><ul class=\"first-column\"><li class=\"footer-title\">Fakespot</li><li><a class=\"footer-link\" href=\"/\">Home</a></li><li><a class=\"footer-link\" href=\"/about\">About</a></li><li><a class=\"footer-link\" href=\"/press\">Press</a></li><li><a target=\"_blank\" class=\"footer-link\" href=\"http://fakespot.tumblr.com\">Blog</a></li></ul></div><div class=\"col-xs-12 col-sm-3 text-left\"><ul><li class=\"footer-title\">Reviews</li><li><a class=\"footer-link\" href=\"/best-products\">Best Reviewed Products</a></li><li><a class=\"footer-link\" href=\"/last-analysis\">Last Analysis</a></li><li><a class=\"footer-link\" target=\"_blank\" href=\"https://www.fakespot.com/blog\">Analysis Blog</a></li></ul></div><div class=\"col-xs-12 col-sm-3 text-left\"><ul><li class=\"footer-title\">Support</li><li><a class=\"footer-link\" href=\"mailto:contact@fakespot.com\">Contact</a></li><li><a class=\"footer-link\" href=\"/faq\">Frequently Asked Questions</a></li><li><a class=\"footer-link\" href=\"/legal\">Legal &amp; Terms of Use</a></li><li><a class=\"footer-link\" href=\"/privacy-policy\">Privacy Policy</a></li></ul></div><div class=\"col-xs-12 col-sm-3\"><div class=\"small-icon\"><a href=\"https://www.facebook.com/FakespotAnalyzer/\"><img alt=\"Fakespot Facebook\" target=\"_blank\" src=\"/assets/facebook_circle-09c66b5507a6e731e57dc2ebdee7e8a75e0c2993784138d5c1d3e476d8be704b.png\" /></a></div><div class=\"small-icon\"><a href=\"https://twitter.com/fakespottweets\"><img alt=\"Fakespot Facebook\" target=\"_blank\" src=\"/assets/twitter_circle-622a758d7a12ff03313ce35ec17e3f3530b5de1f5561dd2f10efe5a78b5b4b9d.png\" /></a></div><div class=\"small-icon\"><a href=\"https://fakespot.tumblr.com\"><img alt=\"Fakespot Tumblr\" target=\"_blank\" src=\"/assets/tumblr_circle-2544e1daf28b9f042baadfadf3c932196eeff98cd8482c4b1dc345f246d45061.png\" /></a></div><div class=\"footer-subscribe\"><p class=\"footer-title\">SUBSCRIBE</p><div class=\"subscribe-form subscribe-form-footer\"><form class=\"subscribe-form-tag\" action=\"/subscribe\" accept-charset=\"UTF-8\" data-remote=\"true\" method=\"get\"><input name=\"utf8\" type=\"hidden\" value=\"&#x2713;\" /><div class=\"form-group\"><span class=\"error-msg\"></span><input type=\"hidden\" name=\"footer\" id=\"footer\" value=\"true\" /><input type=\"email\" name=\"email\" id=\"email\" size=\"125\" class=\"form-control email-input\" placeholder=\"Your Email\" /><input type=\"submit\" name=\"commit\" value=\"Subscribe\" class=\"btn btn-info call-to-action subscribe-button btn-block\" /></div></form></div></div></div><br /><p class=\"aff-disc\">Fakespot is NOT an affiliate in the Amazon Associates program. Fakespot does NOT evaluate or recommend products. Fakespot only evaluates and checks reviews.</p></div></div><div class=\"bottom-page\"><div class=\"container\"><p>Copyright 2017 Fakespot</p><p class=\"top\"><a href=\"#top\">Back to Top</a></p></div></div></body></html>'"
      ]
     },
     "execution_count": 122,
     "metadata": {},
     "output_type": "execute_result"
    }
   ],
   "source": [
    "r.content"
   ]
  },
  {
   "cell_type": "code",
   "execution_count": 151,
   "metadata": {
    "collapsed": true
   },
   "outputs": [],
   "source": [
    "soup = BeautifulSoup(r.content)"
   ]
  },
  {
   "cell_type": "code",
   "execution_count": 152,
   "metadata": {},
   "outputs": [
    {
     "name": "stdout",
     "output_type": "stream",
     "text": [
      "<bound method Tag.prettify of <!DOCTYPE html>\n",
      "<html>\n",
      "<head>\n",
      "<title>The page you were looking for doesn't exist (404)</title>\n",
      "<meta content=\"width=device-width,initial-scale=1\" name=\"viewport\"/>\n",
      "<style>\n",
      "  body {\n",
      "    background-color: #EFEFEF;\n",
      "    color: #2E2F30;\n",
      "    text-align: center;\n",
      "    font-family: arial, sans-serif;\n",
      "    margin: 0;\n",
      "  }\n",
      "\n",
      "  div.dialog {\n",
      "    width: 95%;\n",
      "    max-width: 33em;\n",
      "    margin: 4em auto 0;\n",
      "  }\n",
      "\n",
      "  div.dialog > div {\n",
      "    border: 1px solid #CCC;\n",
      "    border-right-color: #999;\n",
      "    border-left-color: #999;\n",
      "    border-bottom-color: #BBB;\n",
      "    border-top: #B00100 solid 4px;\n",
      "    border-top-left-radius: 9px;\n",
      "    border-top-right-radius: 9px;\n",
      "    background-color: white;\n",
      "    padding: 7px 12% 0;\n",
      "    box-shadow: 0 3px 8px rgba(50, 50, 50, 0.17);\n",
      "  }\n",
      "\n",
      "  h1 {\n",
      "    font-size: 100%;\n",
      "    color: #730E15;\n",
      "    line-height: 1.5em;\n",
      "  }\n",
      "\n",
      "  div.dialog > p {\n",
      "    margin: 0 0 1em;\n",
      "    padding: 1em;\n",
      "    background-color: #F7F7F7;\n",
      "    border: 1px solid #CCC;\n",
      "    border-right-color: #999;\n",
      "    border-left-color: #999;\n",
      "    border-bottom-color: #999;\n",
      "    border-bottom-left-radius: 4px;\n",
      "    border-bottom-right-radius: 4px;\n",
      "    border-top-color: #DADADA;\n",
      "    color: #666;\n",
      "    box-shadow: 0 3px 8px rgba(50, 50, 50, 0.17);\n",
      "  }\n",
      "  </style>\n",
      "</head>\n",
      "<body>\n",
      "<!-- This file lives in public/404.html -->\n",
      "<div class=\"dialog\">\n",
      "<div>\n",
      "<h1>The page you were looking for doesn't exist.</h1>\n",
      "<p>The analysis may have been deleted. You may have mistyped the address or the page may have moved.</p>\n",
      "</div>\n",
      "<p>If you are the application owner check the logs for more information.</p>\n",
      "</div>\n",
      "</body>\n",
      "</html>\n",
      ">\n"
     ]
    }
   ],
   "source": [
    "print(soup.prettify)"
   ]
  },
  {
   "cell_type": "code",
   "execution_count": 135,
   "metadata": {},
   "outputs": [
    {
     "data": {
      "text/plain": [
       "[<div class=\"container-fluid\"><div class=\"navbar-header\"><div class=\"input-header-field hidden-md hidden-sm hidden-xs\"><form accept-charset=\"UTF-8\" action=\"/analyze\" class=\"analysis-form\" data-remote=\"true\" method=\"get\"><input name=\"utf8\" type=\"hidden\" value=\"✓\"/><div class=\"col-xs-12 col-sm-10 card-section\"><input class=\"form-control url-input-field\" id=\"url\" name=\"url\" placeholder=\"Paste any Amazon product, Yelp business or Apple App Store page here\" size=\"125\" type=\"text\"/></div><div class=\"col-xs-4 col-sm-2 text-right hero-button-container\"><input class=\"btn btn-info call-to-action submit-button btn-block\" name=\"commit\" type=\"submit\" value=\"Analyze\"/></div></form></div><div class=\"logo-container container mobile-logo col-xs-8\"><a class=\"col-sm-4\" href=\"/\"><img alt=\"Fakespot Header Logo\" class=\"icon-image\" src=\"/assets/logo-blue2-b0ad070308ca09743fe2024c7f0964176ec94751ea98f0f5d557d0b4b2c3a14f.png\"/></a></div><button aria-expanded=\"false\" class=\"navbar-toggle collapsed\" data-target=\"#bs-example-navbar-collapse-1\" data-toggle=\"collapse\" type=\"button\"><span class=\"sr-only\">Toggle navigation</span><span class=\"icon-bar\"></span><span class=\"icon-bar\"></span><span class=\"icon-bar\"></span></button></div><div class=\"collapse navbar-collapse\" id=\"bs-example-navbar-collapse-1\"><ul class=\"nav navbar-nav navbar-right\"><li><a href=\"/about\">About Us</a></li><li><a href=\"/companies\">Company Grades</a></li><li><a href=\"/best-products\">Best Sellers Analyzed</a></li><li><a href=\"/last-analysis\">Recently Analyzed</a></li></ul></div></div>,\n",
       " <div class=\"navbar-header\"><div class=\"input-header-field hidden-md hidden-sm hidden-xs\"><form accept-charset=\"UTF-8\" action=\"/analyze\" class=\"analysis-form\" data-remote=\"true\" method=\"get\"><input name=\"utf8\" type=\"hidden\" value=\"✓\"/><div class=\"col-xs-12 col-sm-10 card-section\"><input class=\"form-control url-input-field\" id=\"url\" name=\"url\" placeholder=\"Paste any Amazon product, Yelp business or Apple App Store page here\" size=\"125\" type=\"text\"/></div><div class=\"col-xs-4 col-sm-2 text-right hero-button-container\"><input class=\"btn btn-info call-to-action submit-button btn-block\" name=\"commit\" type=\"submit\" value=\"Analyze\"/></div></form></div><div class=\"logo-container container mobile-logo col-xs-8\"><a class=\"col-sm-4\" href=\"/\"><img alt=\"Fakespot Header Logo\" class=\"icon-image\" src=\"/assets/logo-blue2-b0ad070308ca09743fe2024c7f0964176ec94751ea98f0f5d557d0b4b2c3a14f.png\"/></a></div><button aria-expanded=\"false\" class=\"navbar-toggle collapsed\" data-target=\"#bs-example-navbar-collapse-1\" data-toggle=\"collapse\" type=\"button\"><span class=\"sr-only\">Toggle navigation</span><span class=\"icon-bar\"></span><span class=\"icon-bar\"></span><span class=\"icon-bar\"></span></button></div>,\n",
       " <div class=\"input-header-field hidden-md hidden-sm hidden-xs\"><form accept-charset=\"UTF-8\" action=\"/analyze\" class=\"analysis-form\" data-remote=\"true\" method=\"get\"><input name=\"utf8\" type=\"hidden\" value=\"✓\"/><div class=\"col-xs-12 col-sm-10 card-section\"><input class=\"form-control url-input-field\" id=\"url\" name=\"url\" placeholder=\"Paste any Amazon product, Yelp business or Apple App Store page here\" size=\"125\" type=\"text\"/></div><div class=\"col-xs-4 col-sm-2 text-right hero-button-container\"><input class=\"btn btn-info call-to-action submit-button btn-block\" name=\"commit\" type=\"submit\" value=\"Analyze\"/></div></form></div>,\n",
       " <div class=\"col-xs-12 col-sm-10 card-section\"><input class=\"form-control url-input-field\" id=\"url\" name=\"url\" placeholder=\"Paste any Amazon product, Yelp business or Apple App Store page here\" size=\"125\" type=\"text\"/></div>,\n",
       " <div class=\"col-xs-4 col-sm-2 text-right hero-button-container\"><input class=\"btn btn-info call-to-action submit-button btn-block\" name=\"commit\" type=\"submit\" value=\"Analyze\"/></div>,\n",
       " <div class=\"logo-container container mobile-logo col-xs-8\"><a class=\"col-sm-4\" href=\"/\"><img alt=\"Fakespot Header Logo\" class=\"icon-image\" src=\"/assets/logo-blue2-b0ad070308ca09743fe2024c7f0964176ec94751ea98f0f5d557d0b4b2c3a14f.png\"/></a></div>,\n",
       " <div class=\"collapse navbar-collapse\" id=\"bs-example-navbar-collapse-1\"><ul class=\"nav navbar-nav navbar-right\"><li><a href=\"/about\">About Us</a></li><li><a href=\"/companies\">Company Grades</a></li><li><a href=\"/best-products\">Best Sellers Analyzed</a></li><li><a href=\"/last-analysis\">Recently Analyzed</a></li></ul></div>,\n",
       " <div class=\"row top\"><div class=\"logo-container container\"><a class=\"logo-main col-xs-12 col-sm-4\" href=\"/\"><img alt=\"Fakespot Header Logo\" class=\"icon-image\" src=\"/assets/logo-blue2-b0ad070308ca09743fe2024c7f0964176ec94751ea98f0f5d557d0b4b2c3a14f.png\"/></a><div class=\"ad col-xs-12 col-sm-8\"><style>\n",
       "   .banner-wide { width: 300px; height: 90px; }\n",
       "   .side-bar-long { width: 300px; height: 550px; }\n",
       "   @media(min-width: 360px) { .banner-wide { width: 100%; height: 90px; } }\n",
       "   @media(min-width: 500px) { .banner-wide { width: 100%; height: 90px; } }\n",
       "   @media(min-width: 800px) { .banner-wide { width: 100%; height: 90px; } }\n",
       " </style>\n",
       " <script async=\"\" src=\"//pagead2.googlesyndication.com/pagead/js/adsbygoogle.js\"></script>\n",
       " <div class=\"\">\n",
       " <!-- Fakespot -->\n",
       " <ins class=\"adsbygoogle banner-wide\" data-ad-client=\"ca-pub-3620359483519245\" data-ad-format=\"\" data-ad-slot=\"6785478219\" style=\"display:inline-block\"></ins>\n",
       " </div>\n",
       " <script>\n",
       "   (adsbygoogle = window.adsbygoogle || []).push({});\n",
       " </script></div></div></div>,\n",
       " <div class=\"logo-container container\"><a class=\"logo-main col-xs-12 col-sm-4\" href=\"/\"><img alt=\"Fakespot Header Logo\" class=\"icon-image\" src=\"/assets/logo-blue2-b0ad070308ca09743fe2024c7f0964176ec94751ea98f0f5d557d0b4b2c3a14f.png\"/></a><div class=\"ad col-xs-12 col-sm-8\"><style>\n",
       "   .banner-wide { width: 300px; height: 90px; }\n",
       "   .side-bar-long { width: 300px; height: 550px; }\n",
       "   @media(min-width: 360px) { .banner-wide { width: 100%; height: 90px; } }\n",
       "   @media(min-width: 500px) { .banner-wide { width: 100%; height: 90px; } }\n",
       "   @media(min-width: 800px) { .banner-wide { width: 100%; height: 90px; } }\n",
       " </style>\n",
       " <script async=\"\" src=\"//pagead2.googlesyndication.com/pagead/js/adsbygoogle.js\"></script>\n",
       " <div class=\"\">\n",
       " <!-- Fakespot -->\n",
       " <ins class=\"adsbygoogle banner-wide\" data-ad-client=\"ca-pub-3620359483519245\" data-ad-format=\"\" data-ad-slot=\"6785478219\" style=\"display:inline-block\"></ins>\n",
       " </div>\n",
       " <script>\n",
       "   (adsbygoogle = window.adsbygoogle || []).push({});\n",
       " </script></div></div>,\n",
       " <div class=\"ad col-xs-12 col-sm-8\"><style>\n",
       "   .banner-wide { width: 300px; height: 90px; }\n",
       "   .side-bar-long { width: 300px; height: 550px; }\n",
       "   @media(min-width: 360px) { .banner-wide { width: 100%; height: 90px; } }\n",
       "   @media(min-width: 500px) { .banner-wide { width: 100%; height: 90px; } }\n",
       "   @media(min-width: 800px) { .banner-wide { width: 100%; height: 90px; } }\n",
       " </style>\n",
       " <script async=\"\" src=\"//pagead2.googlesyndication.com/pagead/js/adsbygoogle.js\"></script>\n",
       " <div class=\"\">\n",
       " <!-- Fakespot -->\n",
       " <ins class=\"adsbygoogle banner-wide\" data-ad-client=\"ca-pub-3620359483519245\" data-ad-format=\"\" data-ad-slot=\"6785478219\" style=\"display:inline-block\"></ins>\n",
       " </div>\n",
       " <script>\n",
       "   (adsbygoogle = window.adsbygoogle || []).push({});\n",
       " </script></div>,\n",
       " <div class=\"\">\n",
       " <!-- Fakespot -->\n",
       " <ins class=\"adsbygoogle banner-wide\" data-ad-client=\"ca-pub-3620359483519245\" data-ad-format=\"\" data-ad-slot=\"6785478219\" style=\"display:inline-block\"></ins>\n",
       " </div>,\n",
       " <div class=\"page-content\"><div class=\"frm-result-vis\" id=\"frm-result-yelp-74587\"><div class=\"container\"><div class=\"col-sm-8\"><div class=\"product-single\" itemscope=\"\" itemtype=\"http://schema.org/LocalBusiness\"><div class=\"card clearfix\"><div class=\"product-info-section row\"><div class=\"product-image-section col-sm-3\"><a href=\"http://www.yelp.com/biz/throckmortons-austin\" target=\"_blank\"><img alt=\"Throckmorton’s\" class=\"product-image\" id=\"product-image-74587\" itemprop=\"image\" src=\"/system/yelp/businesses/images/000/074/587/medium/ls.jpg?1512000592\"/></a></div><div class=\"product-data-section col-xs-9\"><h4><a href=\"http://www.yelp.com/biz/throckmortons-austin\" target=\"_blank\"><span class=\"product-link\" itemprop=\"name\">Throckmorton’s</span></a></h4><div class=\"row\"><div class=\"col-sm-5 text-left\"><div class=\"title\">Category</div><p>Watch Repair</p></div><div class=\"col-sm-5 text-left\"><div class=\"title\">Total Reviews</div><div class=\"label label-info\">98</div></div></div><div class=\"row\"></div><div class=\"row\"><div class=\"col-sm-5 text-left\"><div class=\"title\">Address</div><p class=\"company-name\">5716 W Hwy 290Ste 112 Austin TX 78735</p></div><div class=\"col-sm-5 text-left\"><div class=\"title\">Phone</div><p class=\"company-name\">(512) 495-9997</p></div></div></div></div><div class=\"product-analysis-section\"><hr/><div class=\"grade-mobile card-new clearfix\"><div class=\"grade-box badge grade-a\"><h3 class=\"lead-in-text grade-a\">Fakespot Grade</h3><div class=\"grade-rating font-grade-a\">A</div></div><br/></div><div class=\"analysis-details\" id=\"grade-74587\" itemprop=\"aggregateRating\" itemscope=\"\" itemtype=\"http://schema.org/AggregateRating\"><div class=\"row\"><div class=\"grade-result\"><div class=\"analysis-opinion-text\"><h3><img alt=\"64x64\" class=\"m-l-sm\" height=\"32px\" src=\"/assets/64x64-5faff49869d643c4a7865b8543a2dfc1d2a4d95760b43aeb54b7ad122767bb23.png\"/>You can trust the reviews.</h3><span itemprop=\"ratingValue\" style=\"display:none\">100.0</span><span itemprop=\"bestRating\" style=\"display:none\">100</span><span itemprop=\"worstRating\" style=\"display:none\">0</span></div><hr/><div class=\"analysis-wysk-section\"><h4>Analysis overview</h4><div class=\"analysis-wysk-list\"><div class=\"analysis-wysk-list-item\"><span><div class=\"row\"><div class=\"col-xs-1\"><i class=\"fa fa-square\"></i></div><div class=\"col-xs-9 margin-item-left\">Our engine has discovered that over <b>90%</b> high quality reviews are present.</div></div></span></div><div class=\"analysis-wysk-list-item\"><span><div class=\"row\"><div class=\"col-xs-1\"><i class=\"fa fa-square\"></i></div><div class=\"col-xs-9 margin-item-left\">Our engine detects that in general the reviewers have a <b>positive</b> sentiment.</div></div></span></div><div class=\"analysis-wysk-list-item\"><span><div class=\"row\"><div class=\"col-xs-1\"><i class=\"fa fa-square\"></i></div><div class=\"col-xs-9 margin-item-left\">Our engine has profiled the reviewer patterns and has determined that there is <b>minimal deception</b> involved.</div></div></span></div><div class=\"analysis-wysk-list-item\"><span><div class=\"row\"><div class=\"col-xs-1\"><i class=\"fa fa-square\"></i></div><div class=\"col-xs-9 margin-item-left\">The most used word by reviewers is <b>watch</b>.</div></div></span></div></div></div><hr/><div class=\"analysis-summary-section\"><h4>Reviews summary</h4><div class=\"analysis-summary-text\"><div class=\"review_summary_points\"><h5 class=\"summary_bullet_point\"><div class=\"row\"><div class=\"col-xs-1\"><i class=\"fa fa-square\"></i></div><div class=\"col-xs-9 margin-item-left\">If you have some of these earrings that you can't wear (painful!), i suggest having throckmorton's turn them into gorgeous earrings that you'll enjoy wearing! very expensive engagement ring, to cheap but family heirloom rings for sizing and cleaning </div></div></h5><br/><h5 class=\"summary_bullet_point\"><div class=\"row\"><div class=\"col-xs-1\"><i class=\"fa fa-square\"></i></div><div class=\"col-xs-9 margin-item-left\">They did a beautiful job of converting my mother-in-law's clip earrings with precious stones into pierced earrings </div></div></h5></div><br/></div></div></div></div></div><div class=\"row card-section\"><div class=\"row card-section\"><div class=\"col-xs-12\"><style>\n",
       "   .banner-wide { width: 300px; height: 90px; }\n",
       "   .side-bar-long { width: 300px; height: 550px; }\n",
       "   @media(min-width: 360px) { .banner-wide { width: 100%; height: 90px; } }\n",
       "   @media(min-width: 500px) { .banner-wide { width: 100%; height: 90px; } }\n",
       "   @media(min-width: 800px) { .banner-wide { width: 100%; height: 90px; } }\n",
       " </style>\n",
       " <script async=\"\" src=\"//pagead2.googlesyndication.com/pagead/js/adsbygoogle.js\"></script>\n",
       " <div class=\"\">\n",
       " <!-- Fakespot -->\n",
       " <ins class=\"adsbygoogle banner-wide\" data-ad-client=\"ca-pub-3620359483519245\" data-ad-format=\"\" data-ad-slot=\"6785478219\" style=\"display:inline-block\"></ins>\n",
       " </div>\n",
       " <script>\n",
       "   (adsbygoogle = window.adsbygoogle || []).push({});\n",
       " </script></div></div></div><br/><div class=\"analysis-tab-frame\"><br/><div class=\"tabbable\"><ul class=\"nav nav-pills nav-justified\"><li class=\" active\"><a data-toggle=\"tab\" href=\"#tab_74587_1\">Reviews Word Cloud</a></li></ul><div class=\"tab-content\"><br/><div class=\"tab-pane active\" id=\"tab_74587_1\"><div class=\"wordData\" id=\"wordData-74587\">[[\"watch\", 39], [\"ring\", 37], [\"service\", 21], [\"great\", 16], [\"jewelry\", 14], [\"throckmorton's\", 13], [\"time\", 12], [\"about\", 11], [\"back\", 11], [\"here\", 10], [\"went\", 9], [\"place\", 9], [\"jeweler\", 9], [\"new\", 9], [\"shop\", 9], [\"able\", 8], [\"like\", 8], [\"friendly\", 8], [\"look\", 7], [\"took\", 7], [\"rolex\", 7], [\"david\", 7], [\"working\", 7], [\"happy\", 7], [\"how\", 7], [\"other\", 7], [\"business\", 7], [\"work\", 7], [\"staff\", 7], [\"store\", 6], [\"extremely\", 6], [\"prices\", 6], [\"battery\", 6], [\"decided\", 6], [\"water\", 6], [\"told\", 6], [\"repaired\", 6], [\"best\", 6], [\"said\", 6], [\"fix\", 6], [\"thockmorton's\", 6], [\"diamond\", 6], [\"rings\", 6], [\"found\", 6], [\"few\", 5], [\"weeks\", 5], [\"days\", 5], [\"first\", 5], [\"who\", 5], [\"wife\", 5], [\"need\", 5], [\"repair\", 5], [\"call\", 5], [\"replacement\", 5], [\"reviews\", 5], [\"again\", 5], [\"resized\", 5], [\"servicing\", 5], [\"her\", 5], [\"well\", 5], [\"size\", 5], [\"brought\", 5], [\"customer\", 5], [\"good\", 5], [\"professional\", 5]]</div><div class=\"wordCloud\" id=\"wordCloud-74587\"></div></div></div></div></div></div></div></div></div><div class=\"col-sm-4 text-center\"><div class=\"grade-big card-new clearfix\"><div class=\"grade-box badge grade-a\"><h3 class=\"lead-in-text grade-a\">Fakespot Grade</h3><div class=\"grade-rating font-grade-a\">A</div></div></div><div class=\"analysis-share-links card-new clearfix\"><div class=\"vote_bx\" id=\"vote_box_74587\"><div>Do you agree with this analysis?</div><span class=\"vote-yes m-l-sm\"><a data-remote=\"true\" href=\"/vote?id=74587&amp;type=yelp&amp;vote=yes\"><i class=\"fa fa-thumbs-up\"></i></a></span><span class=\"vote-no m-l-sm\"><a data-remote=\"true\" href=\"/vote?id=74587&amp;type=yelp&amp;vote=no\"><i class=\"fa fa-thumbs-down\"></i></a></span></div><br/><span class=\"col-xs-12\">Share this analysis (<a href=\"http://www.fakespot.com/business/throckmorton-s\">direct link</a>)</span><div class=\"social-share-button\" data-desc=\"Fakespot Analysis for Throckmorton’s\" data-img=\"\" data-title=\"Throckmorton’s\" data-url=\"http://www.fakespot.com/yelp/business/throckmorton-s\">\n",
       " <a class=\"social-share-button-twitter\" data-site=\"twitter\" href=\"#\" onclick=\"return SocialShareButton.share(this);\" rel=\"nofollow \" title=\"Share to Twitter\"></a>\n",
       " <a class=\"social-share-button-facebook\" data-site=\"facebook\" href=\"#\" onclick=\"return SocialShareButton.share(this);\" rel=\"nofollow \" title=\"Share to Facebook\"></a>\n",
       " <a class=\"social-share-button-google_plus\" data-site=\"google_plus\" href=\"#\" onclick=\"return SocialShareButton.share(this);\" rel=\"nofollow \" title=\"Share to Google+\"></a>\n",
       " <a class=\"social-share-button-baidu\" data-site=\"baidu\" href=\"#\" onclick=\"return SocialShareButton.share(this);\" rel=\"nofollow \" title=\"Share to Baidu.com\"></a>\n",
       " <a class=\"social-share-button-google_bookmark\" data-site=\"google_bookmark\" href=\"#\" onclick=\"return SocialShareButton.share(this);\" rel=\"nofollow \" title=\"Share to Google Bookmark\"></a>\n",
       " <a class=\"social-share-button-delicious\" data-site=\"delicious\" href=\"#\" onclick=\"return SocialShareButton.share(this);\" rel=\"nofollow \" title=\"Share to Delicious\"></a>\n",
       " <a class=\"social-share-button-tumblr\" data-site=\"tumblr\" href=\"#\" onclick=\"return SocialShareButton.share(this);\" rel=\"nofollow \" title=\"Share to Tumblr\"></a>\n",
       " <a class=\"social-share-button-plurk\" data-site=\"plurk\" href=\"#\" onclick=\"return SocialShareButton.share(this);\" rel=\"nofollow \" title=\"Share to Plurk\"></a>\n",
       " <a class=\"social-share-button-pinterest\" data-site=\"pinterest\" href=\"#\" onclick=\"return SocialShareButton.share(this);\" rel=\"nofollow \" title=\"Share to Pinterest\"></a>\n",
       " </div></div><br/><div class=\"product-analysis-advert\"><style>\n",
       "   .banner-narrow { width: 300px; height: 250px; }\n",
       "   @media(min-width: 360px) { .banner-narrow { width: 100%; height: 150px; } }\n",
       "   @media(min-width: 500px) { .banner-narrow { width: 100%; height: 200px; } }\n",
       "   @media(min-width: 800px) { .banner-narrow { width: 100%; height: 250px; } }\n",
       " </style>\n",
       " <script async=\"\" src=\"//pagead2.googlesyndication.com/pagead/js/adsbygoogle.js\"></script>\n",
       " <!-- Fakespot Product Ad 3 -->\n",
       " <ins class=\"adsbygoogle banner-narrow\" data-ad-client=\"ca-pub-3620359483519245\" data-ad-slot=\"9610040615\" style=\"display:inline-block;\"></ins>\n",
       " <script>\n",
       "     (adsbygoogle = window.adsbygoogle || []).push({});\n",
       " </script></div></div></div></div></div>,\n",
       " <div class=\"frm-result-vis\" id=\"frm-result-yelp-74587\"><div class=\"container\"><div class=\"col-sm-8\"><div class=\"product-single\" itemscope=\"\" itemtype=\"http://schema.org/LocalBusiness\"><div class=\"card clearfix\"><div class=\"product-info-section row\"><div class=\"product-image-section col-sm-3\"><a href=\"http://www.yelp.com/biz/throckmortons-austin\" target=\"_blank\"><img alt=\"Throckmorton’s\" class=\"product-image\" id=\"product-image-74587\" itemprop=\"image\" src=\"/system/yelp/businesses/images/000/074/587/medium/ls.jpg?1512000592\"/></a></div><div class=\"product-data-section col-xs-9\"><h4><a href=\"http://www.yelp.com/biz/throckmortons-austin\" target=\"_blank\"><span class=\"product-link\" itemprop=\"name\">Throckmorton’s</span></a></h4><div class=\"row\"><div class=\"col-sm-5 text-left\"><div class=\"title\">Category</div><p>Watch Repair</p></div><div class=\"col-sm-5 text-left\"><div class=\"title\">Total Reviews</div><div class=\"label label-info\">98</div></div></div><div class=\"row\"></div><div class=\"row\"><div class=\"col-sm-5 text-left\"><div class=\"title\">Address</div><p class=\"company-name\">5716 W Hwy 290Ste 112 Austin TX 78735</p></div><div class=\"col-sm-5 text-left\"><div class=\"title\">Phone</div><p class=\"company-name\">(512) 495-9997</p></div></div></div></div><div class=\"product-analysis-section\"><hr/><div class=\"grade-mobile card-new clearfix\"><div class=\"grade-box badge grade-a\"><h3 class=\"lead-in-text grade-a\">Fakespot Grade</h3><div class=\"grade-rating font-grade-a\">A</div></div><br/></div><div class=\"analysis-details\" id=\"grade-74587\" itemprop=\"aggregateRating\" itemscope=\"\" itemtype=\"http://schema.org/AggregateRating\"><div class=\"row\"><div class=\"grade-result\"><div class=\"analysis-opinion-text\"><h3><img alt=\"64x64\" class=\"m-l-sm\" height=\"32px\" src=\"/assets/64x64-5faff49869d643c4a7865b8543a2dfc1d2a4d95760b43aeb54b7ad122767bb23.png\"/>You can trust the reviews.</h3><span itemprop=\"ratingValue\" style=\"display:none\">100.0</span><span itemprop=\"bestRating\" style=\"display:none\">100</span><span itemprop=\"worstRating\" style=\"display:none\">0</span></div><hr/><div class=\"analysis-wysk-section\"><h4>Analysis overview</h4><div class=\"analysis-wysk-list\"><div class=\"analysis-wysk-list-item\"><span><div class=\"row\"><div class=\"col-xs-1\"><i class=\"fa fa-square\"></i></div><div class=\"col-xs-9 margin-item-left\">Our engine has discovered that over <b>90%</b> high quality reviews are present.</div></div></span></div><div class=\"analysis-wysk-list-item\"><span><div class=\"row\"><div class=\"col-xs-1\"><i class=\"fa fa-square\"></i></div><div class=\"col-xs-9 margin-item-left\">Our engine detects that in general the reviewers have a <b>positive</b> sentiment.</div></div></span></div><div class=\"analysis-wysk-list-item\"><span><div class=\"row\"><div class=\"col-xs-1\"><i class=\"fa fa-square\"></i></div><div class=\"col-xs-9 margin-item-left\">Our engine has profiled the reviewer patterns and has determined that there is <b>minimal deception</b> involved.</div></div></span></div><div class=\"analysis-wysk-list-item\"><span><div class=\"row\"><div class=\"col-xs-1\"><i class=\"fa fa-square\"></i></div><div class=\"col-xs-9 margin-item-left\">The most used word by reviewers is <b>watch</b>.</div></div></span></div></div></div><hr/><div class=\"analysis-summary-section\"><h4>Reviews summary</h4><div class=\"analysis-summary-text\"><div class=\"review_summary_points\"><h5 class=\"summary_bullet_point\"><div class=\"row\"><div class=\"col-xs-1\"><i class=\"fa fa-square\"></i></div><div class=\"col-xs-9 margin-item-left\">If you have some of these earrings that you can't wear (painful!), i suggest having throckmorton's turn them into gorgeous earrings that you'll enjoy wearing! very expensive engagement ring, to cheap but family heirloom rings for sizing and cleaning </div></div></h5><br/><h5 class=\"summary_bullet_point\"><div class=\"row\"><div class=\"col-xs-1\"><i class=\"fa fa-square\"></i></div><div class=\"col-xs-9 margin-item-left\">They did a beautiful job of converting my mother-in-law's clip earrings with precious stones into pierced earrings </div></div></h5></div><br/></div></div></div></div></div><div class=\"row card-section\"><div class=\"row card-section\"><div class=\"col-xs-12\"><style>\n",
       "   .banner-wide { width: 300px; height: 90px; }\n",
       "   .side-bar-long { width: 300px; height: 550px; }\n",
       "   @media(min-width: 360px) { .banner-wide { width: 100%; height: 90px; } }\n",
       "   @media(min-width: 500px) { .banner-wide { width: 100%; height: 90px; } }\n",
       "   @media(min-width: 800px) { .banner-wide { width: 100%; height: 90px; } }\n",
       " </style>\n",
       " <script async=\"\" src=\"//pagead2.googlesyndication.com/pagead/js/adsbygoogle.js\"></script>\n",
       " <div class=\"\">\n",
       " <!-- Fakespot -->\n",
       " <ins class=\"adsbygoogle banner-wide\" data-ad-client=\"ca-pub-3620359483519245\" data-ad-format=\"\" data-ad-slot=\"6785478219\" style=\"display:inline-block\"></ins>\n",
       " </div>\n",
       " <script>\n",
       "   (adsbygoogle = window.adsbygoogle || []).push({});\n",
       " </script></div></div></div><br/><div class=\"analysis-tab-frame\"><br/><div class=\"tabbable\"><ul class=\"nav nav-pills nav-justified\"><li class=\" active\"><a data-toggle=\"tab\" href=\"#tab_74587_1\">Reviews Word Cloud</a></li></ul><div class=\"tab-content\"><br/><div class=\"tab-pane active\" id=\"tab_74587_1\"><div class=\"wordData\" id=\"wordData-74587\">[[\"watch\", 39], [\"ring\", 37], [\"service\", 21], [\"great\", 16], [\"jewelry\", 14], [\"throckmorton's\", 13], [\"time\", 12], [\"about\", 11], [\"back\", 11], [\"here\", 10], [\"went\", 9], [\"place\", 9], [\"jeweler\", 9], [\"new\", 9], [\"shop\", 9], [\"able\", 8], [\"like\", 8], [\"friendly\", 8], [\"look\", 7], [\"took\", 7], [\"rolex\", 7], [\"david\", 7], [\"working\", 7], [\"happy\", 7], [\"how\", 7], [\"other\", 7], [\"business\", 7], [\"work\", 7], [\"staff\", 7], [\"store\", 6], [\"extremely\", 6], [\"prices\", 6], [\"battery\", 6], [\"decided\", 6], [\"water\", 6], [\"told\", 6], [\"repaired\", 6], [\"best\", 6], [\"said\", 6], [\"fix\", 6], [\"thockmorton's\", 6], [\"diamond\", 6], [\"rings\", 6], [\"found\", 6], [\"few\", 5], [\"weeks\", 5], [\"days\", 5], [\"first\", 5], [\"who\", 5], [\"wife\", 5], [\"need\", 5], [\"repair\", 5], [\"call\", 5], [\"replacement\", 5], [\"reviews\", 5], [\"again\", 5], [\"resized\", 5], [\"servicing\", 5], [\"her\", 5], [\"well\", 5], [\"size\", 5], [\"brought\", 5], [\"customer\", 5], [\"good\", 5], [\"professional\", 5]]</div><div class=\"wordCloud\" id=\"wordCloud-74587\"></div></div></div></div></div></div></div></div></div><div class=\"col-sm-4 text-center\"><div class=\"grade-big card-new clearfix\"><div class=\"grade-box badge grade-a\"><h3 class=\"lead-in-text grade-a\">Fakespot Grade</h3><div class=\"grade-rating font-grade-a\">A</div></div></div><div class=\"analysis-share-links card-new clearfix\"><div class=\"vote_bx\" id=\"vote_box_74587\"><div>Do you agree with this analysis?</div><span class=\"vote-yes m-l-sm\"><a data-remote=\"true\" href=\"/vote?id=74587&amp;type=yelp&amp;vote=yes\"><i class=\"fa fa-thumbs-up\"></i></a></span><span class=\"vote-no m-l-sm\"><a data-remote=\"true\" href=\"/vote?id=74587&amp;type=yelp&amp;vote=no\"><i class=\"fa fa-thumbs-down\"></i></a></span></div><br/><span class=\"col-xs-12\">Share this analysis (<a href=\"http://www.fakespot.com/business/throckmorton-s\">direct link</a>)</span><div class=\"social-share-button\" data-desc=\"Fakespot Analysis for Throckmorton’s\" data-img=\"\" data-title=\"Throckmorton’s\" data-url=\"http://www.fakespot.com/yelp/business/throckmorton-s\">\n",
       " <a class=\"social-share-button-twitter\" data-site=\"twitter\" href=\"#\" onclick=\"return SocialShareButton.share(this);\" rel=\"nofollow \" title=\"Share to Twitter\"></a>\n",
       " <a class=\"social-share-button-facebook\" data-site=\"facebook\" href=\"#\" onclick=\"return SocialShareButton.share(this);\" rel=\"nofollow \" title=\"Share to Facebook\"></a>\n",
       " <a class=\"social-share-button-google_plus\" data-site=\"google_plus\" href=\"#\" onclick=\"return SocialShareButton.share(this);\" rel=\"nofollow \" title=\"Share to Google+\"></a>\n",
       " <a class=\"social-share-button-baidu\" data-site=\"baidu\" href=\"#\" onclick=\"return SocialShareButton.share(this);\" rel=\"nofollow \" title=\"Share to Baidu.com\"></a>\n",
       " <a class=\"social-share-button-google_bookmark\" data-site=\"google_bookmark\" href=\"#\" onclick=\"return SocialShareButton.share(this);\" rel=\"nofollow \" title=\"Share to Google Bookmark\"></a>\n",
       " <a class=\"social-share-button-delicious\" data-site=\"delicious\" href=\"#\" onclick=\"return SocialShareButton.share(this);\" rel=\"nofollow \" title=\"Share to Delicious\"></a>\n",
       " <a class=\"social-share-button-tumblr\" data-site=\"tumblr\" href=\"#\" onclick=\"return SocialShareButton.share(this);\" rel=\"nofollow \" title=\"Share to Tumblr\"></a>\n",
       " <a class=\"social-share-button-plurk\" data-site=\"plurk\" href=\"#\" onclick=\"return SocialShareButton.share(this);\" rel=\"nofollow \" title=\"Share to Plurk\"></a>\n",
       " <a class=\"social-share-button-pinterest\" data-site=\"pinterest\" href=\"#\" onclick=\"return SocialShareButton.share(this);\" rel=\"nofollow \" title=\"Share to Pinterest\"></a>\n",
       " </div></div><br/><div class=\"product-analysis-advert\"><style>\n",
       "   .banner-narrow { width: 300px; height: 250px; }\n",
       "   @media(min-width: 360px) { .banner-narrow { width: 100%; height: 150px; } }\n",
       "   @media(min-width: 500px) { .banner-narrow { width: 100%; height: 200px; } }\n",
       "   @media(min-width: 800px) { .banner-narrow { width: 100%; height: 250px; } }\n",
       " </style>\n",
       " <script async=\"\" src=\"//pagead2.googlesyndication.com/pagead/js/adsbygoogle.js\"></script>\n",
       " <!-- Fakespot Product Ad 3 -->\n",
       " <ins class=\"adsbygoogle banner-narrow\" data-ad-client=\"ca-pub-3620359483519245\" data-ad-slot=\"9610040615\" style=\"display:inline-block;\"></ins>\n",
       " <script>\n",
       "     (adsbygoogle = window.adsbygoogle || []).push({});\n",
       " </script></div></div></div></div>,\n",
       " <div class=\"container\"><div class=\"col-sm-8\"><div class=\"product-single\" itemscope=\"\" itemtype=\"http://schema.org/LocalBusiness\"><div class=\"card clearfix\"><div class=\"product-info-section row\"><div class=\"product-image-section col-sm-3\"><a href=\"http://www.yelp.com/biz/throckmortons-austin\" target=\"_blank\"><img alt=\"Throckmorton’s\" class=\"product-image\" id=\"product-image-74587\" itemprop=\"image\" src=\"/system/yelp/businesses/images/000/074/587/medium/ls.jpg?1512000592\"/></a></div><div class=\"product-data-section col-xs-9\"><h4><a href=\"http://www.yelp.com/biz/throckmortons-austin\" target=\"_blank\"><span class=\"product-link\" itemprop=\"name\">Throckmorton’s</span></a></h4><div class=\"row\"><div class=\"col-sm-5 text-left\"><div class=\"title\">Category</div><p>Watch Repair</p></div><div class=\"col-sm-5 text-left\"><div class=\"title\">Total Reviews</div><div class=\"label label-info\">98</div></div></div><div class=\"row\"></div><div class=\"row\"><div class=\"col-sm-5 text-left\"><div class=\"title\">Address</div><p class=\"company-name\">5716 W Hwy 290Ste 112 Austin TX 78735</p></div><div class=\"col-sm-5 text-left\"><div class=\"title\">Phone</div><p class=\"company-name\">(512) 495-9997</p></div></div></div></div><div class=\"product-analysis-section\"><hr/><div class=\"grade-mobile card-new clearfix\"><div class=\"grade-box badge grade-a\"><h3 class=\"lead-in-text grade-a\">Fakespot Grade</h3><div class=\"grade-rating font-grade-a\">A</div></div><br/></div><div class=\"analysis-details\" id=\"grade-74587\" itemprop=\"aggregateRating\" itemscope=\"\" itemtype=\"http://schema.org/AggregateRating\"><div class=\"row\"><div class=\"grade-result\"><div class=\"analysis-opinion-text\"><h3><img alt=\"64x64\" class=\"m-l-sm\" height=\"32px\" src=\"/assets/64x64-5faff49869d643c4a7865b8543a2dfc1d2a4d95760b43aeb54b7ad122767bb23.png\"/>You can trust the reviews.</h3><span itemprop=\"ratingValue\" style=\"display:none\">100.0</span><span itemprop=\"bestRating\" style=\"display:none\">100</span><span itemprop=\"worstRating\" style=\"display:none\">0</span></div><hr/><div class=\"analysis-wysk-section\"><h4>Analysis overview</h4><div class=\"analysis-wysk-list\"><div class=\"analysis-wysk-list-item\"><span><div class=\"row\"><div class=\"col-xs-1\"><i class=\"fa fa-square\"></i></div><div class=\"col-xs-9 margin-item-left\">Our engine has discovered that over <b>90%</b> high quality reviews are present.</div></div></span></div><div class=\"analysis-wysk-list-item\"><span><div class=\"row\"><div class=\"col-xs-1\"><i class=\"fa fa-square\"></i></div><div class=\"col-xs-9 margin-item-left\">Our engine detects that in general the reviewers have a <b>positive</b> sentiment.</div></div></span></div><div class=\"analysis-wysk-list-item\"><span><div class=\"row\"><div class=\"col-xs-1\"><i class=\"fa fa-square\"></i></div><div class=\"col-xs-9 margin-item-left\">Our engine has profiled the reviewer patterns and has determined that there is <b>minimal deception</b> involved.</div></div></span></div><div class=\"analysis-wysk-list-item\"><span><div class=\"row\"><div class=\"col-xs-1\"><i class=\"fa fa-square\"></i></div><div class=\"col-xs-9 margin-item-left\">The most used word by reviewers is <b>watch</b>.</div></div></span></div></div></div><hr/><div class=\"analysis-summary-section\"><h4>Reviews summary</h4><div class=\"analysis-summary-text\"><div class=\"review_summary_points\"><h5 class=\"summary_bullet_point\"><div class=\"row\"><div class=\"col-xs-1\"><i class=\"fa fa-square\"></i></div><div class=\"col-xs-9 margin-item-left\">If you have some of these earrings that you can't wear (painful!), i suggest having throckmorton's turn them into gorgeous earrings that you'll enjoy wearing! very expensive engagement ring, to cheap but family heirloom rings for sizing and cleaning </div></div></h5><br/><h5 class=\"summary_bullet_point\"><div class=\"row\"><div class=\"col-xs-1\"><i class=\"fa fa-square\"></i></div><div class=\"col-xs-9 margin-item-left\">They did a beautiful job of converting my mother-in-law's clip earrings with precious stones into pierced earrings </div></div></h5></div><br/></div></div></div></div></div><div class=\"row card-section\"><div class=\"row card-section\"><div class=\"col-xs-12\"><style>\n",
       "   .banner-wide { width: 300px; height: 90px; }\n",
       "   .side-bar-long { width: 300px; height: 550px; }\n",
       "   @media(min-width: 360px) { .banner-wide { width: 100%; height: 90px; } }\n",
       "   @media(min-width: 500px) { .banner-wide { width: 100%; height: 90px; } }\n",
       "   @media(min-width: 800px) { .banner-wide { width: 100%; height: 90px; } }\n",
       " </style>\n",
       " <script async=\"\" src=\"//pagead2.googlesyndication.com/pagead/js/adsbygoogle.js\"></script>\n",
       " <div class=\"\">\n",
       " <!-- Fakespot -->\n",
       " <ins class=\"adsbygoogle banner-wide\" data-ad-client=\"ca-pub-3620359483519245\" data-ad-format=\"\" data-ad-slot=\"6785478219\" style=\"display:inline-block\"></ins>\n",
       " </div>\n",
       " <script>\n",
       "   (adsbygoogle = window.adsbygoogle || []).push({});\n",
       " </script></div></div></div><br/><div class=\"analysis-tab-frame\"><br/><div class=\"tabbable\"><ul class=\"nav nav-pills nav-justified\"><li class=\" active\"><a data-toggle=\"tab\" href=\"#tab_74587_1\">Reviews Word Cloud</a></li></ul><div class=\"tab-content\"><br/><div class=\"tab-pane active\" id=\"tab_74587_1\"><div class=\"wordData\" id=\"wordData-74587\">[[\"watch\", 39], [\"ring\", 37], [\"service\", 21], [\"great\", 16], [\"jewelry\", 14], [\"throckmorton's\", 13], [\"time\", 12], [\"about\", 11], [\"back\", 11], [\"here\", 10], [\"went\", 9], [\"place\", 9], [\"jeweler\", 9], [\"new\", 9], [\"shop\", 9], [\"able\", 8], [\"like\", 8], [\"friendly\", 8], [\"look\", 7], [\"took\", 7], [\"rolex\", 7], [\"david\", 7], [\"working\", 7], [\"happy\", 7], [\"how\", 7], [\"other\", 7], [\"business\", 7], [\"work\", 7], [\"staff\", 7], [\"store\", 6], [\"extremely\", 6], [\"prices\", 6], [\"battery\", 6], [\"decided\", 6], [\"water\", 6], [\"told\", 6], [\"repaired\", 6], [\"best\", 6], [\"said\", 6], [\"fix\", 6], [\"thockmorton's\", 6], [\"diamond\", 6], [\"rings\", 6], [\"found\", 6], [\"few\", 5], [\"weeks\", 5], [\"days\", 5], [\"first\", 5], [\"who\", 5], [\"wife\", 5], [\"need\", 5], [\"repair\", 5], [\"call\", 5], [\"replacement\", 5], [\"reviews\", 5], [\"again\", 5], [\"resized\", 5], [\"servicing\", 5], [\"her\", 5], [\"well\", 5], [\"size\", 5], [\"brought\", 5], [\"customer\", 5], [\"good\", 5], [\"professional\", 5]]</div><div class=\"wordCloud\" id=\"wordCloud-74587\"></div></div></div></div></div></div></div></div></div><div class=\"col-sm-4 text-center\"><div class=\"grade-big card-new clearfix\"><div class=\"grade-box badge grade-a\"><h3 class=\"lead-in-text grade-a\">Fakespot Grade</h3><div class=\"grade-rating font-grade-a\">A</div></div></div><div class=\"analysis-share-links card-new clearfix\"><div class=\"vote_bx\" id=\"vote_box_74587\"><div>Do you agree with this analysis?</div><span class=\"vote-yes m-l-sm\"><a data-remote=\"true\" href=\"/vote?id=74587&amp;type=yelp&amp;vote=yes\"><i class=\"fa fa-thumbs-up\"></i></a></span><span class=\"vote-no m-l-sm\"><a data-remote=\"true\" href=\"/vote?id=74587&amp;type=yelp&amp;vote=no\"><i class=\"fa fa-thumbs-down\"></i></a></span></div><br/><span class=\"col-xs-12\">Share this analysis (<a href=\"http://www.fakespot.com/business/throckmorton-s\">direct link</a>)</span><div class=\"social-share-button\" data-desc=\"Fakespot Analysis for Throckmorton’s\" data-img=\"\" data-title=\"Throckmorton’s\" data-url=\"http://www.fakespot.com/yelp/business/throckmorton-s\">\n",
       " <a class=\"social-share-button-twitter\" data-site=\"twitter\" href=\"#\" onclick=\"return SocialShareButton.share(this);\" rel=\"nofollow \" title=\"Share to Twitter\"></a>\n",
       " <a class=\"social-share-button-facebook\" data-site=\"facebook\" href=\"#\" onclick=\"return SocialShareButton.share(this);\" rel=\"nofollow \" title=\"Share to Facebook\"></a>\n",
       " <a class=\"social-share-button-google_plus\" data-site=\"google_plus\" href=\"#\" onclick=\"return SocialShareButton.share(this);\" rel=\"nofollow \" title=\"Share to Google+\"></a>\n",
       " <a class=\"social-share-button-baidu\" data-site=\"baidu\" href=\"#\" onclick=\"return SocialShareButton.share(this);\" rel=\"nofollow \" title=\"Share to Baidu.com\"></a>\n",
       " <a class=\"social-share-button-google_bookmark\" data-site=\"google_bookmark\" href=\"#\" onclick=\"return SocialShareButton.share(this);\" rel=\"nofollow \" title=\"Share to Google Bookmark\"></a>\n",
       " <a class=\"social-share-button-delicious\" data-site=\"delicious\" href=\"#\" onclick=\"return SocialShareButton.share(this);\" rel=\"nofollow \" title=\"Share to Delicious\"></a>\n",
       " <a class=\"social-share-button-tumblr\" data-site=\"tumblr\" href=\"#\" onclick=\"return SocialShareButton.share(this);\" rel=\"nofollow \" title=\"Share to Tumblr\"></a>\n",
       " <a class=\"social-share-button-plurk\" data-site=\"plurk\" href=\"#\" onclick=\"return SocialShareButton.share(this);\" rel=\"nofollow \" title=\"Share to Plurk\"></a>\n",
       " <a class=\"social-share-button-pinterest\" data-site=\"pinterest\" href=\"#\" onclick=\"return SocialShareButton.share(this);\" rel=\"nofollow \" title=\"Share to Pinterest\"></a>\n",
       " </div></div><br/><div class=\"product-analysis-advert\"><style>\n",
       "   .banner-narrow { width: 300px; height: 250px; }\n",
       "   @media(min-width: 360px) { .banner-narrow { width: 100%; height: 150px; } }\n",
       "   @media(min-width: 500px) { .banner-narrow { width: 100%; height: 200px; } }\n",
       "   @media(min-width: 800px) { .banner-narrow { width: 100%; height: 250px; } }\n",
       " </style>\n",
       " <script async=\"\" src=\"//pagead2.googlesyndication.com/pagead/js/adsbygoogle.js\"></script>\n",
       " <!-- Fakespot Product Ad 3 -->\n",
       " <ins class=\"adsbygoogle banner-narrow\" data-ad-client=\"ca-pub-3620359483519245\" data-ad-slot=\"9610040615\" style=\"display:inline-block;\"></ins>\n",
       " <script>\n",
       "     (adsbygoogle = window.adsbygoogle || []).push({});\n",
       " </script></div></div></div>,\n",
       " <div class=\"col-sm-8\"><div class=\"product-single\" itemscope=\"\" itemtype=\"http://schema.org/LocalBusiness\"><div class=\"card clearfix\"><div class=\"product-info-section row\"><div class=\"product-image-section col-sm-3\"><a href=\"http://www.yelp.com/biz/throckmortons-austin\" target=\"_blank\"><img alt=\"Throckmorton’s\" class=\"product-image\" id=\"product-image-74587\" itemprop=\"image\" src=\"/system/yelp/businesses/images/000/074/587/medium/ls.jpg?1512000592\"/></a></div><div class=\"product-data-section col-xs-9\"><h4><a href=\"http://www.yelp.com/biz/throckmortons-austin\" target=\"_blank\"><span class=\"product-link\" itemprop=\"name\">Throckmorton’s</span></a></h4><div class=\"row\"><div class=\"col-sm-5 text-left\"><div class=\"title\">Category</div><p>Watch Repair</p></div><div class=\"col-sm-5 text-left\"><div class=\"title\">Total Reviews</div><div class=\"label label-info\">98</div></div></div><div class=\"row\"></div><div class=\"row\"><div class=\"col-sm-5 text-left\"><div class=\"title\">Address</div><p class=\"company-name\">5716 W Hwy 290Ste 112 Austin TX 78735</p></div><div class=\"col-sm-5 text-left\"><div class=\"title\">Phone</div><p class=\"company-name\">(512) 495-9997</p></div></div></div></div><div class=\"product-analysis-section\"><hr/><div class=\"grade-mobile card-new clearfix\"><div class=\"grade-box badge grade-a\"><h3 class=\"lead-in-text grade-a\">Fakespot Grade</h3><div class=\"grade-rating font-grade-a\">A</div></div><br/></div><div class=\"analysis-details\" id=\"grade-74587\" itemprop=\"aggregateRating\" itemscope=\"\" itemtype=\"http://schema.org/AggregateRating\"><div class=\"row\"><div class=\"grade-result\"><div class=\"analysis-opinion-text\"><h3><img alt=\"64x64\" class=\"m-l-sm\" height=\"32px\" src=\"/assets/64x64-5faff49869d643c4a7865b8543a2dfc1d2a4d95760b43aeb54b7ad122767bb23.png\"/>You can trust the reviews.</h3><span itemprop=\"ratingValue\" style=\"display:none\">100.0</span><span itemprop=\"bestRating\" style=\"display:none\">100</span><span itemprop=\"worstRating\" style=\"display:none\">0</span></div><hr/><div class=\"analysis-wysk-section\"><h4>Analysis overview</h4><div class=\"analysis-wysk-list\"><div class=\"analysis-wysk-list-item\"><span><div class=\"row\"><div class=\"col-xs-1\"><i class=\"fa fa-square\"></i></div><div class=\"col-xs-9 margin-item-left\">Our engine has discovered that over <b>90%</b> high quality reviews are present.</div></div></span></div><div class=\"analysis-wysk-list-item\"><span><div class=\"row\"><div class=\"col-xs-1\"><i class=\"fa fa-square\"></i></div><div class=\"col-xs-9 margin-item-left\">Our engine detects that in general the reviewers have a <b>positive</b> sentiment.</div></div></span></div><div class=\"analysis-wysk-list-item\"><span><div class=\"row\"><div class=\"col-xs-1\"><i class=\"fa fa-square\"></i></div><div class=\"col-xs-9 margin-item-left\">Our engine has profiled the reviewer patterns and has determined that there is <b>minimal deception</b> involved.</div></div></span></div><div class=\"analysis-wysk-list-item\"><span><div class=\"row\"><div class=\"col-xs-1\"><i class=\"fa fa-square\"></i></div><div class=\"col-xs-9 margin-item-left\">The most used word by reviewers is <b>watch</b>.</div></div></span></div></div></div><hr/><div class=\"analysis-summary-section\"><h4>Reviews summary</h4><div class=\"analysis-summary-text\"><div class=\"review_summary_points\"><h5 class=\"summary_bullet_point\"><div class=\"row\"><div class=\"col-xs-1\"><i class=\"fa fa-square\"></i></div><div class=\"col-xs-9 margin-item-left\">If you have some of these earrings that you can't wear (painful!), i suggest having throckmorton's turn them into gorgeous earrings that you'll enjoy wearing! very expensive engagement ring, to cheap but family heirloom rings for sizing and cleaning </div></div></h5><br/><h5 class=\"summary_bullet_point\"><div class=\"row\"><div class=\"col-xs-1\"><i class=\"fa fa-square\"></i></div><div class=\"col-xs-9 margin-item-left\">They did a beautiful job of converting my mother-in-law's clip earrings with precious stones into pierced earrings </div></div></h5></div><br/></div></div></div></div></div><div class=\"row card-section\"><div class=\"row card-section\"><div class=\"col-xs-12\"><style>\n",
       "   .banner-wide { width: 300px; height: 90px; }\n",
       "   .side-bar-long { width: 300px; height: 550px; }\n",
       "   @media(min-width: 360px) { .banner-wide { width: 100%; height: 90px; } }\n",
       "   @media(min-width: 500px) { .banner-wide { width: 100%; height: 90px; } }\n",
       "   @media(min-width: 800px) { .banner-wide { width: 100%; height: 90px; } }\n",
       " </style>\n",
       " <script async=\"\" src=\"//pagead2.googlesyndication.com/pagead/js/adsbygoogle.js\"></script>\n",
       " <div class=\"\">\n",
       " <!-- Fakespot -->\n",
       " <ins class=\"adsbygoogle banner-wide\" data-ad-client=\"ca-pub-3620359483519245\" data-ad-format=\"\" data-ad-slot=\"6785478219\" style=\"display:inline-block\"></ins>\n",
       " </div>\n",
       " <script>\n",
       "   (adsbygoogle = window.adsbygoogle || []).push({});\n",
       " </script></div></div></div><br/><div class=\"analysis-tab-frame\"><br/><div class=\"tabbable\"><ul class=\"nav nav-pills nav-justified\"><li class=\" active\"><a data-toggle=\"tab\" href=\"#tab_74587_1\">Reviews Word Cloud</a></li></ul><div class=\"tab-content\"><br/><div class=\"tab-pane active\" id=\"tab_74587_1\"><div class=\"wordData\" id=\"wordData-74587\">[[\"watch\", 39], [\"ring\", 37], [\"service\", 21], [\"great\", 16], [\"jewelry\", 14], [\"throckmorton's\", 13], [\"time\", 12], [\"about\", 11], [\"back\", 11], [\"here\", 10], [\"went\", 9], [\"place\", 9], [\"jeweler\", 9], [\"new\", 9], [\"shop\", 9], [\"able\", 8], [\"like\", 8], [\"friendly\", 8], [\"look\", 7], [\"took\", 7], [\"rolex\", 7], [\"david\", 7], [\"working\", 7], [\"happy\", 7], [\"how\", 7], [\"other\", 7], [\"business\", 7], [\"work\", 7], [\"staff\", 7], [\"store\", 6], [\"extremely\", 6], [\"prices\", 6], [\"battery\", 6], [\"decided\", 6], [\"water\", 6], [\"told\", 6], [\"repaired\", 6], [\"best\", 6], [\"said\", 6], [\"fix\", 6], [\"thockmorton's\", 6], [\"diamond\", 6], [\"rings\", 6], [\"found\", 6], [\"few\", 5], [\"weeks\", 5], [\"days\", 5], [\"first\", 5], [\"who\", 5], [\"wife\", 5], [\"need\", 5], [\"repair\", 5], [\"call\", 5], [\"replacement\", 5], [\"reviews\", 5], [\"again\", 5], [\"resized\", 5], [\"servicing\", 5], [\"her\", 5], [\"well\", 5], [\"size\", 5], [\"brought\", 5], [\"customer\", 5], [\"good\", 5], [\"professional\", 5]]</div><div class=\"wordCloud\" id=\"wordCloud-74587\"></div></div></div></div></div></div></div></div></div>,\n",
       " <div class=\"product-single\" itemscope=\"\" itemtype=\"http://schema.org/LocalBusiness\"><div class=\"card clearfix\"><div class=\"product-info-section row\"><div class=\"product-image-section col-sm-3\"><a href=\"http://www.yelp.com/biz/throckmortons-austin\" target=\"_blank\"><img alt=\"Throckmorton’s\" class=\"product-image\" id=\"product-image-74587\" itemprop=\"image\" src=\"/system/yelp/businesses/images/000/074/587/medium/ls.jpg?1512000592\"/></a></div><div class=\"product-data-section col-xs-9\"><h4><a href=\"http://www.yelp.com/biz/throckmortons-austin\" target=\"_blank\"><span class=\"product-link\" itemprop=\"name\">Throckmorton’s</span></a></h4><div class=\"row\"><div class=\"col-sm-5 text-left\"><div class=\"title\">Category</div><p>Watch Repair</p></div><div class=\"col-sm-5 text-left\"><div class=\"title\">Total Reviews</div><div class=\"label label-info\">98</div></div></div><div class=\"row\"></div><div class=\"row\"><div class=\"col-sm-5 text-left\"><div class=\"title\">Address</div><p class=\"company-name\">5716 W Hwy 290Ste 112 Austin TX 78735</p></div><div class=\"col-sm-5 text-left\"><div class=\"title\">Phone</div><p class=\"company-name\">(512) 495-9997</p></div></div></div></div><div class=\"product-analysis-section\"><hr/><div class=\"grade-mobile card-new clearfix\"><div class=\"grade-box badge grade-a\"><h3 class=\"lead-in-text grade-a\">Fakespot Grade</h3><div class=\"grade-rating font-grade-a\">A</div></div><br/></div><div class=\"analysis-details\" id=\"grade-74587\" itemprop=\"aggregateRating\" itemscope=\"\" itemtype=\"http://schema.org/AggregateRating\"><div class=\"row\"><div class=\"grade-result\"><div class=\"analysis-opinion-text\"><h3><img alt=\"64x64\" class=\"m-l-sm\" height=\"32px\" src=\"/assets/64x64-5faff49869d643c4a7865b8543a2dfc1d2a4d95760b43aeb54b7ad122767bb23.png\"/>You can trust the reviews.</h3><span itemprop=\"ratingValue\" style=\"display:none\">100.0</span><span itemprop=\"bestRating\" style=\"display:none\">100</span><span itemprop=\"worstRating\" style=\"display:none\">0</span></div><hr/><div class=\"analysis-wysk-section\"><h4>Analysis overview</h4><div class=\"analysis-wysk-list\"><div class=\"analysis-wysk-list-item\"><span><div class=\"row\"><div class=\"col-xs-1\"><i class=\"fa fa-square\"></i></div><div class=\"col-xs-9 margin-item-left\">Our engine has discovered that over <b>90%</b> high quality reviews are present.</div></div></span></div><div class=\"analysis-wysk-list-item\"><span><div class=\"row\"><div class=\"col-xs-1\"><i class=\"fa fa-square\"></i></div><div class=\"col-xs-9 margin-item-left\">Our engine detects that in general the reviewers have a <b>positive</b> sentiment.</div></div></span></div><div class=\"analysis-wysk-list-item\"><span><div class=\"row\"><div class=\"col-xs-1\"><i class=\"fa fa-square\"></i></div><div class=\"col-xs-9 margin-item-left\">Our engine has profiled the reviewer patterns and has determined that there is <b>minimal deception</b> involved.</div></div></span></div><div class=\"analysis-wysk-list-item\"><span><div class=\"row\"><div class=\"col-xs-1\"><i class=\"fa fa-square\"></i></div><div class=\"col-xs-9 margin-item-left\">The most used word by reviewers is <b>watch</b>.</div></div></span></div></div></div><hr/><div class=\"analysis-summary-section\"><h4>Reviews summary</h4><div class=\"analysis-summary-text\"><div class=\"review_summary_points\"><h5 class=\"summary_bullet_point\"><div class=\"row\"><div class=\"col-xs-1\"><i class=\"fa fa-square\"></i></div><div class=\"col-xs-9 margin-item-left\">If you have some of these earrings that you can't wear (painful!), i suggest having throckmorton's turn them into gorgeous earrings that you'll enjoy wearing! very expensive engagement ring, to cheap but family heirloom rings for sizing and cleaning </div></div></h5><br/><h5 class=\"summary_bullet_point\"><div class=\"row\"><div class=\"col-xs-1\"><i class=\"fa fa-square\"></i></div><div class=\"col-xs-9 margin-item-left\">They did a beautiful job of converting my mother-in-law's clip earrings with precious stones into pierced earrings </div></div></h5></div><br/></div></div></div></div></div><div class=\"row card-section\"><div class=\"row card-section\"><div class=\"col-xs-12\"><style>\n",
       "   .banner-wide { width: 300px; height: 90px; }\n",
       "   .side-bar-long { width: 300px; height: 550px; }\n",
       "   @media(min-width: 360px) { .banner-wide { width: 100%; height: 90px; } }\n",
       "   @media(min-width: 500px) { .banner-wide { width: 100%; height: 90px; } }\n",
       "   @media(min-width: 800px) { .banner-wide { width: 100%; height: 90px; } }\n",
       " </style>\n",
       " <script async=\"\" src=\"//pagead2.googlesyndication.com/pagead/js/adsbygoogle.js\"></script>\n",
       " <div class=\"\">\n",
       " <!-- Fakespot -->\n",
       " <ins class=\"adsbygoogle banner-wide\" data-ad-client=\"ca-pub-3620359483519245\" data-ad-format=\"\" data-ad-slot=\"6785478219\" style=\"display:inline-block\"></ins>\n",
       " </div>\n",
       " <script>\n",
       "   (adsbygoogle = window.adsbygoogle || []).push({});\n",
       " </script></div></div></div><br/><div class=\"analysis-tab-frame\"><br/><div class=\"tabbable\"><ul class=\"nav nav-pills nav-justified\"><li class=\" active\"><a data-toggle=\"tab\" href=\"#tab_74587_1\">Reviews Word Cloud</a></li></ul><div class=\"tab-content\"><br/><div class=\"tab-pane active\" id=\"tab_74587_1\"><div class=\"wordData\" id=\"wordData-74587\">[[\"watch\", 39], [\"ring\", 37], [\"service\", 21], [\"great\", 16], [\"jewelry\", 14], [\"throckmorton's\", 13], [\"time\", 12], [\"about\", 11], [\"back\", 11], [\"here\", 10], [\"went\", 9], [\"place\", 9], [\"jeweler\", 9], [\"new\", 9], [\"shop\", 9], [\"able\", 8], [\"like\", 8], [\"friendly\", 8], [\"look\", 7], [\"took\", 7], [\"rolex\", 7], [\"david\", 7], [\"working\", 7], [\"happy\", 7], [\"how\", 7], [\"other\", 7], [\"business\", 7], [\"work\", 7], [\"staff\", 7], [\"store\", 6], [\"extremely\", 6], [\"prices\", 6], [\"battery\", 6], [\"decided\", 6], [\"water\", 6], [\"told\", 6], [\"repaired\", 6], [\"best\", 6], [\"said\", 6], [\"fix\", 6], [\"thockmorton's\", 6], [\"diamond\", 6], [\"rings\", 6], [\"found\", 6], [\"few\", 5], [\"weeks\", 5], [\"days\", 5], [\"first\", 5], [\"who\", 5], [\"wife\", 5], [\"need\", 5], [\"repair\", 5], [\"call\", 5], [\"replacement\", 5], [\"reviews\", 5], [\"again\", 5], [\"resized\", 5], [\"servicing\", 5], [\"her\", 5], [\"well\", 5], [\"size\", 5], [\"brought\", 5], [\"customer\", 5], [\"good\", 5], [\"professional\", 5]]</div><div class=\"wordCloud\" id=\"wordCloud-74587\"></div></div></div></div></div></div></div></div>,\n",
       " <div class=\"card clearfix\"><div class=\"product-info-section row\"><div class=\"product-image-section col-sm-3\"><a href=\"http://www.yelp.com/biz/throckmortons-austin\" target=\"_blank\"><img alt=\"Throckmorton’s\" class=\"product-image\" id=\"product-image-74587\" itemprop=\"image\" src=\"/system/yelp/businesses/images/000/074/587/medium/ls.jpg?1512000592\"/></a></div><div class=\"product-data-section col-xs-9\"><h4><a href=\"http://www.yelp.com/biz/throckmortons-austin\" target=\"_blank\"><span class=\"product-link\" itemprop=\"name\">Throckmorton’s</span></a></h4><div class=\"row\"><div class=\"col-sm-5 text-left\"><div class=\"title\">Category</div><p>Watch Repair</p></div><div class=\"col-sm-5 text-left\"><div class=\"title\">Total Reviews</div><div class=\"label label-info\">98</div></div></div><div class=\"row\"></div><div class=\"row\"><div class=\"col-sm-5 text-left\"><div class=\"title\">Address</div><p class=\"company-name\">5716 W Hwy 290Ste 112 Austin TX 78735</p></div><div class=\"col-sm-5 text-left\"><div class=\"title\">Phone</div><p class=\"company-name\">(512) 495-9997</p></div></div></div></div><div class=\"product-analysis-section\"><hr/><div class=\"grade-mobile card-new clearfix\"><div class=\"grade-box badge grade-a\"><h3 class=\"lead-in-text grade-a\">Fakespot Grade</h3><div class=\"grade-rating font-grade-a\">A</div></div><br/></div><div class=\"analysis-details\" id=\"grade-74587\" itemprop=\"aggregateRating\" itemscope=\"\" itemtype=\"http://schema.org/AggregateRating\"><div class=\"row\"><div class=\"grade-result\"><div class=\"analysis-opinion-text\"><h3><img alt=\"64x64\" class=\"m-l-sm\" height=\"32px\" src=\"/assets/64x64-5faff49869d643c4a7865b8543a2dfc1d2a4d95760b43aeb54b7ad122767bb23.png\"/>You can trust the reviews.</h3><span itemprop=\"ratingValue\" style=\"display:none\">100.0</span><span itemprop=\"bestRating\" style=\"display:none\">100</span><span itemprop=\"worstRating\" style=\"display:none\">0</span></div><hr/><div class=\"analysis-wysk-section\"><h4>Analysis overview</h4><div class=\"analysis-wysk-list\"><div class=\"analysis-wysk-list-item\"><span><div class=\"row\"><div class=\"col-xs-1\"><i class=\"fa fa-square\"></i></div><div class=\"col-xs-9 margin-item-left\">Our engine has discovered that over <b>90%</b> high quality reviews are present.</div></div></span></div><div class=\"analysis-wysk-list-item\"><span><div class=\"row\"><div class=\"col-xs-1\"><i class=\"fa fa-square\"></i></div><div class=\"col-xs-9 margin-item-left\">Our engine detects that in general the reviewers have a <b>positive</b> sentiment.</div></div></span></div><div class=\"analysis-wysk-list-item\"><span><div class=\"row\"><div class=\"col-xs-1\"><i class=\"fa fa-square\"></i></div><div class=\"col-xs-9 margin-item-left\">Our engine has profiled the reviewer patterns and has determined that there is <b>minimal deception</b> involved.</div></div></span></div><div class=\"analysis-wysk-list-item\"><span><div class=\"row\"><div class=\"col-xs-1\"><i class=\"fa fa-square\"></i></div><div class=\"col-xs-9 margin-item-left\">The most used word by reviewers is <b>watch</b>.</div></div></span></div></div></div><hr/><div class=\"analysis-summary-section\"><h4>Reviews summary</h4><div class=\"analysis-summary-text\"><div class=\"review_summary_points\"><h5 class=\"summary_bullet_point\"><div class=\"row\"><div class=\"col-xs-1\"><i class=\"fa fa-square\"></i></div><div class=\"col-xs-9 margin-item-left\">If you have some of these earrings that you can't wear (painful!), i suggest having throckmorton's turn them into gorgeous earrings that you'll enjoy wearing! very expensive engagement ring, to cheap but family heirloom rings for sizing and cleaning </div></div></h5><br/><h5 class=\"summary_bullet_point\"><div class=\"row\"><div class=\"col-xs-1\"><i class=\"fa fa-square\"></i></div><div class=\"col-xs-9 margin-item-left\">They did a beautiful job of converting my mother-in-law's clip earrings with precious stones into pierced earrings </div></div></h5></div><br/></div></div></div></div></div><div class=\"row card-section\"><div class=\"row card-section\"><div class=\"col-xs-12\"><style>\n",
       "   .banner-wide { width: 300px; height: 90px; }\n",
       "   .side-bar-long { width: 300px; height: 550px; }\n",
       "   @media(min-width: 360px) { .banner-wide { width: 100%; height: 90px; } }\n",
       "   @media(min-width: 500px) { .banner-wide { width: 100%; height: 90px; } }\n",
       "   @media(min-width: 800px) { .banner-wide { width: 100%; height: 90px; } }\n",
       " </style>\n",
       " <script async=\"\" src=\"//pagead2.googlesyndication.com/pagead/js/adsbygoogle.js\"></script>\n",
       " <div class=\"\">\n",
       " <!-- Fakespot -->\n",
       " <ins class=\"adsbygoogle banner-wide\" data-ad-client=\"ca-pub-3620359483519245\" data-ad-format=\"\" data-ad-slot=\"6785478219\" style=\"display:inline-block\"></ins>\n",
       " </div>\n",
       " <script>\n",
       "   (adsbygoogle = window.adsbygoogle || []).push({});\n",
       " </script></div></div></div><br/><div class=\"analysis-tab-frame\"><br/><div class=\"tabbable\"><ul class=\"nav nav-pills nav-justified\"><li class=\" active\"><a data-toggle=\"tab\" href=\"#tab_74587_1\">Reviews Word Cloud</a></li></ul><div class=\"tab-content\"><br/><div class=\"tab-pane active\" id=\"tab_74587_1\"><div class=\"wordData\" id=\"wordData-74587\">[[\"watch\", 39], [\"ring\", 37], [\"service\", 21], [\"great\", 16], [\"jewelry\", 14], [\"throckmorton's\", 13], [\"time\", 12], [\"about\", 11], [\"back\", 11], [\"here\", 10], [\"went\", 9], [\"place\", 9], [\"jeweler\", 9], [\"new\", 9], [\"shop\", 9], [\"able\", 8], [\"like\", 8], [\"friendly\", 8], [\"look\", 7], [\"took\", 7], [\"rolex\", 7], [\"david\", 7], [\"working\", 7], [\"happy\", 7], [\"how\", 7], [\"other\", 7], [\"business\", 7], [\"work\", 7], [\"staff\", 7], [\"store\", 6], [\"extremely\", 6], [\"prices\", 6], [\"battery\", 6], [\"decided\", 6], [\"water\", 6], [\"told\", 6], [\"repaired\", 6], [\"best\", 6], [\"said\", 6], [\"fix\", 6], [\"thockmorton's\", 6], [\"diamond\", 6], [\"rings\", 6], [\"found\", 6], [\"few\", 5], [\"weeks\", 5], [\"days\", 5], [\"first\", 5], [\"who\", 5], [\"wife\", 5], [\"need\", 5], [\"repair\", 5], [\"call\", 5], [\"replacement\", 5], [\"reviews\", 5], [\"again\", 5], [\"resized\", 5], [\"servicing\", 5], [\"her\", 5], [\"well\", 5], [\"size\", 5], [\"brought\", 5], [\"customer\", 5], [\"good\", 5], [\"professional\", 5]]</div><div class=\"wordCloud\" id=\"wordCloud-74587\"></div></div></div></div></div></div></div>,\n",
       " <div class=\"product-info-section row\"><div class=\"product-image-section col-sm-3\"><a href=\"http://www.yelp.com/biz/throckmortons-austin\" target=\"_blank\"><img alt=\"Throckmorton’s\" class=\"product-image\" id=\"product-image-74587\" itemprop=\"image\" src=\"/system/yelp/businesses/images/000/074/587/medium/ls.jpg?1512000592\"/></a></div><div class=\"product-data-section col-xs-9\"><h4><a href=\"http://www.yelp.com/biz/throckmortons-austin\" target=\"_blank\"><span class=\"product-link\" itemprop=\"name\">Throckmorton’s</span></a></h4><div class=\"row\"><div class=\"col-sm-5 text-left\"><div class=\"title\">Category</div><p>Watch Repair</p></div><div class=\"col-sm-5 text-left\"><div class=\"title\">Total Reviews</div><div class=\"label label-info\">98</div></div></div><div class=\"row\"></div><div class=\"row\"><div class=\"col-sm-5 text-left\"><div class=\"title\">Address</div><p class=\"company-name\">5716 W Hwy 290Ste 112 Austin TX 78735</p></div><div class=\"col-sm-5 text-left\"><div class=\"title\">Phone</div><p class=\"company-name\">(512) 495-9997</p></div></div></div></div>,\n",
       " <div class=\"product-image-section col-sm-3\"><a href=\"http://www.yelp.com/biz/throckmortons-austin\" target=\"_blank\"><img alt=\"Throckmorton’s\" class=\"product-image\" id=\"product-image-74587\" itemprop=\"image\" src=\"/system/yelp/businesses/images/000/074/587/medium/ls.jpg?1512000592\"/></a></div>,\n",
       " <div class=\"product-data-section col-xs-9\"><h4><a href=\"http://www.yelp.com/biz/throckmortons-austin\" target=\"_blank\"><span class=\"product-link\" itemprop=\"name\">Throckmorton’s</span></a></h4><div class=\"row\"><div class=\"col-sm-5 text-left\"><div class=\"title\">Category</div><p>Watch Repair</p></div><div class=\"col-sm-5 text-left\"><div class=\"title\">Total Reviews</div><div class=\"label label-info\">98</div></div></div><div class=\"row\"></div><div class=\"row\"><div class=\"col-sm-5 text-left\"><div class=\"title\">Address</div><p class=\"company-name\">5716 W Hwy 290Ste 112 Austin TX 78735</p></div><div class=\"col-sm-5 text-left\"><div class=\"title\">Phone</div><p class=\"company-name\">(512) 495-9997</p></div></div></div>,\n",
       " <div class=\"row\"><div class=\"col-sm-5 text-left\"><div class=\"title\">Category</div><p>Watch Repair</p></div><div class=\"col-sm-5 text-left\"><div class=\"title\">Total Reviews</div><div class=\"label label-info\">98</div></div></div>,\n",
       " <div class=\"col-sm-5 text-left\"><div class=\"title\">Category</div><p>Watch Repair</p></div>,\n",
       " <div class=\"title\">Category</div>,\n",
       " <div class=\"col-sm-5 text-left\"><div class=\"title\">Total Reviews</div><div class=\"label label-info\">98</div></div>,\n",
       " <div class=\"title\">Total Reviews</div>,\n",
       " <div class=\"label label-info\">98</div>,\n",
       " <div class=\"row\"></div>,\n",
       " <div class=\"row\"><div class=\"col-sm-5 text-left\"><div class=\"title\">Address</div><p class=\"company-name\">5716 W Hwy 290Ste 112 Austin TX 78735</p></div><div class=\"col-sm-5 text-left\"><div class=\"title\">Phone</div><p class=\"company-name\">(512) 495-9997</p></div></div>,\n",
       " <div class=\"col-sm-5 text-left\"><div class=\"title\">Address</div><p class=\"company-name\">5716 W Hwy 290Ste 112 Austin TX 78735</p></div>,\n",
       " <div class=\"title\">Address</div>,\n",
       " <div class=\"col-sm-5 text-left\"><div class=\"title\">Phone</div><p class=\"company-name\">(512) 495-9997</p></div>,\n",
       " <div class=\"title\">Phone</div>,\n",
       " <div class=\"product-analysis-section\"><hr/><div class=\"grade-mobile card-new clearfix\"><div class=\"grade-box badge grade-a\"><h3 class=\"lead-in-text grade-a\">Fakespot Grade</h3><div class=\"grade-rating font-grade-a\">A</div></div><br/></div><div class=\"analysis-details\" id=\"grade-74587\" itemprop=\"aggregateRating\" itemscope=\"\" itemtype=\"http://schema.org/AggregateRating\"><div class=\"row\"><div class=\"grade-result\"><div class=\"analysis-opinion-text\"><h3><img alt=\"64x64\" class=\"m-l-sm\" height=\"32px\" src=\"/assets/64x64-5faff49869d643c4a7865b8543a2dfc1d2a4d95760b43aeb54b7ad122767bb23.png\"/>You can trust the reviews.</h3><span itemprop=\"ratingValue\" style=\"display:none\">100.0</span><span itemprop=\"bestRating\" style=\"display:none\">100</span><span itemprop=\"worstRating\" style=\"display:none\">0</span></div><hr/><div class=\"analysis-wysk-section\"><h4>Analysis overview</h4><div class=\"analysis-wysk-list\"><div class=\"analysis-wysk-list-item\"><span><div class=\"row\"><div class=\"col-xs-1\"><i class=\"fa fa-square\"></i></div><div class=\"col-xs-9 margin-item-left\">Our engine has discovered that over <b>90%</b> high quality reviews are present.</div></div></span></div><div class=\"analysis-wysk-list-item\"><span><div class=\"row\"><div class=\"col-xs-1\"><i class=\"fa fa-square\"></i></div><div class=\"col-xs-9 margin-item-left\">Our engine detects that in general the reviewers have a <b>positive</b> sentiment.</div></div></span></div><div class=\"analysis-wysk-list-item\"><span><div class=\"row\"><div class=\"col-xs-1\"><i class=\"fa fa-square\"></i></div><div class=\"col-xs-9 margin-item-left\">Our engine has profiled the reviewer patterns and has determined that there is <b>minimal deception</b> involved.</div></div></span></div><div class=\"analysis-wysk-list-item\"><span><div class=\"row\"><div class=\"col-xs-1\"><i class=\"fa fa-square\"></i></div><div class=\"col-xs-9 margin-item-left\">The most used word by reviewers is <b>watch</b>.</div></div></span></div></div></div><hr/><div class=\"analysis-summary-section\"><h4>Reviews summary</h4><div class=\"analysis-summary-text\"><div class=\"review_summary_points\"><h5 class=\"summary_bullet_point\"><div class=\"row\"><div class=\"col-xs-1\"><i class=\"fa fa-square\"></i></div><div class=\"col-xs-9 margin-item-left\">If you have some of these earrings that you can't wear (painful!), i suggest having throckmorton's turn them into gorgeous earrings that you'll enjoy wearing! very expensive engagement ring, to cheap but family heirloom rings for sizing and cleaning </div></div></h5><br/><h5 class=\"summary_bullet_point\"><div class=\"row\"><div class=\"col-xs-1\"><i class=\"fa fa-square\"></i></div><div class=\"col-xs-9 margin-item-left\">They did a beautiful job of converting my mother-in-law's clip earrings with precious stones into pierced earrings </div></div></h5></div><br/></div></div></div></div></div><div class=\"row card-section\"><div class=\"row card-section\"><div class=\"col-xs-12\"><style>\n",
       "   .banner-wide { width: 300px; height: 90px; }\n",
       "   .side-bar-long { width: 300px; height: 550px; }\n",
       "   @media(min-width: 360px) { .banner-wide { width: 100%; height: 90px; } }\n",
       "   @media(min-width: 500px) { .banner-wide { width: 100%; height: 90px; } }\n",
       "   @media(min-width: 800px) { .banner-wide { width: 100%; height: 90px; } }\n",
       " </style>\n",
       " <script async=\"\" src=\"//pagead2.googlesyndication.com/pagead/js/adsbygoogle.js\"></script>\n",
       " <div class=\"\">\n",
       " <!-- Fakespot -->\n",
       " <ins class=\"adsbygoogle banner-wide\" data-ad-client=\"ca-pub-3620359483519245\" data-ad-format=\"\" data-ad-slot=\"6785478219\" style=\"display:inline-block\"></ins>\n",
       " </div>\n",
       " <script>\n",
       "   (adsbygoogle = window.adsbygoogle || []).push({});\n",
       " </script></div></div></div><br/><div class=\"analysis-tab-frame\"><br/><div class=\"tabbable\"><ul class=\"nav nav-pills nav-justified\"><li class=\" active\"><a data-toggle=\"tab\" href=\"#tab_74587_1\">Reviews Word Cloud</a></li></ul><div class=\"tab-content\"><br/><div class=\"tab-pane active\" id=\"tab_74587_1\"><div class=\"wordData\" id=\"wordData-74587\">[[\"watch\", 39], [\"ring\", 37], [\"service\", 21], [\"great\", 16], [\"jewelry\", 14], [\"throckmorton's\", 13], [\"time\", 12], [\"about\", 11], [\"back\", 11], [\"here\", 10], [\"went\", 9], [\"place\", 9], [\"jeweler\", 9], [\"new\", 9], [\"shop\", 9], [\"able\", 8], [\"like\", 8], [\"friendly\", 8], [\"look\", 7], [\"took\", 7], [\"rolex\", 7], [\"david\", 7], [\"working\", 7], [\"happy\", 7], [\"how\", 7], [\"other\", 7], [\"business\", 7], [\"work\", 7], [\"staff\", 7], [\"store\", 6], [\"extremely\", 6], [\"prices\", 6], [\"battery\", 6], [\"decided\", 6], [\"water\", 6], [\"told\", 6], [\"repaired\", 6], [\"best\", 6], [\"said\", 6], [\"fix\", 6], [\"thockmorton's\", 6], [\"diamond\", 6], [\"rings\", 6], [\"found\", 6], [\"few\", 5], [\"weeks\", 5], [\"days\", 5], [\"first\", 5], [\"who\", 5], [\"wife\", 5], [\"need\", 5], [\"repair\", 5], [\"call\", 5], [\"replacement\", 5], [\"reviews\", 5], [\"again\", 5], [\"resized\", 5], [\"servicing\", 5], [\"her\", 5], [\"well\", 5], [\"size\", 5], [\"brought\", 5], [\"customer\", 5], [\"good\", 5], [\"professional\", 5]]</div><div class=\"wordCloud\" id=\"wordCloud-74587\"></div></div></div></div></div></div>,\n",
       " <div class=\"grade-mobile card-new clearfix\"><div class=\"grade-box badge grade-a\"><h3 class=\"lead-in-text grade-a\">Fakespot Grade</h3><div class=\"grade-rating font-grade-a\">A</div></div><br/></div>,\n",
       " <div class=\"grade-box badge grade-a\"><h3 class=\"lead-in-text grade-a\">Fakespot Grade</h3><div class=\"grade-rating font-grade-a\">A</div></div>,\n",
       " <div class=\"grade-rating font-grade-a\">A</div>,\n",
       " <div class=\"analysis-details\" id=\"grade-74587\" itemprop=\"aggregateRating\" itemscope=\"\" itemtype=\"http://schema.org/AggregateRating\"><div class=\"row\"><div class=\"grade-result\"><div class=\"analysis-opinion-text\"><h3><img alt=\"64x64\" class=\"m-l-sm\" height=\"32px\" src=\"/assets/64x64-5faff49869d643c4a7865b8543a2dfc1d2a4d95760b43aeb54b7ad122767bb23.png\"/>You can trust the reviews.</h3><span itemprop=\"ratingValue\" style=\"display:none\">100.0</span><span itemprop=\"bestRating\" style=\"display:none\">100</span><span itemprop=\"worstRating\" style=\"display:none\">0</span></div><hr/><div class=\"analysis-wysk-section\"><h4>Analysis overview</h4><div class=\"analysis-wysk-list\"><div class=\"analysis-wysk-list-item\"><span><div class=\"row\"><div class=\"col-xs-1\"><i class=\"fa fa-square\"></i></div><div class=\"col-xs-9 margin-item-left\">Our engine has discovered that over <b>90%</b> high quality reviews are present.</div></div></span></div><div class=\"analysis-wysk-list-item\"><span><div class=\"row\"><div class=\"col-xs-1\"><i class=\"fa fa-square\"></i></div><div class=\"col-xs-9 margin-item-left\">Our engine detects that in general the reviewers have a <b>positive</b> sentiment.</div></div></span></div><div class=\"analysis-wysk-list-item\"><span><div class=\"row\"><div class=\"col-xs-1\"><i class=\"fa fa-square\"></i></div><div class=\"col-xs-9 margin-item-left\">Our engine has profiled the reviewer patterns and has determined that there is <b>minimal deception</b> involved.</div></div></span></div><div class=\"analysis-wysk-list-item\"><span><div class=\"row\"><div class=\"col-xs-1\"><i class=\"fa fa-square\"></i></div><div class=\"col-xs-9 margin-item-left\">The most used word by reviewers is <b>watch</b>.</div></div></span></div></div></div><hr/><div class=\"analysis-summary-section\"><h4>Reviews summary</h4><div class=\"analysis-summary-text\"><div class=\"review_summary_points\"><h5 class=\"summary_bullet_point\"><div class=\"row\"><div class=\"col-xs-1\"><i class=\"fa fa-square\"></i></div><div class=\"col-xs-9 margin-item-left\">If you have some of these earrings that you can't wear (painful!), i suggest having throckmorton's turn them into gorgeous earrings that you'll enjoy wearing! very expensive engagement ring, to cheap but family heirloom rings for sizing and cleaning </div></div></h5><br/><h5 class=\"summary_bullet_point\"><div class=\"row\"><div class=\"col-xs-1\"><i class=\"fa fa-square\"></i></div><div class=\"col-xs-9 margin-item-left\">They did a beautiful job of converting my mother-in-law's clip earrings with precious stones into pierced earrings </div></div></h5></div><br/></div></div></div></div></div>,\n",
       " <div class=\"row\"><div class=\"grade-result\"><div class=\"analysis-opinion-text\"><h3><img alt=\"64x64\" class=\"m-l-sm\" height=\"32px\" src=\"/assets/64x64-5faff49869d643c4a7865b8543a2dfc1d2a4d95760b43aeb54b7ad122767bb23.png\"/>You can trust the reviews.</h3><span itemprop=\"ratingValue\" style=\"display:none\">100.0</span><span itemprop=\"bestRating\" style=\"display:none\">100</span><span itemprop=\"worstRating\" style=\"display:none\">0</span></div><hr/><div class=\"analysis-wysk-section\"><h4>Analysis overview</h4><div class=\"analysis-wysk-list\"><div class=\"analysis-wysk-list-item\"><span><div class=\"row\"><div class=\"col-xs-1\"><i class=\"fa fa-square\"></i></div><div class=\"col-xs-9 margin-item-left\">Our engine has discovered that over <b>90%</b> high quality reviews are present.</div></div></span></div><div class=\"analysis-wysk-list-item\"><span><div class=\"row\"><div class=\"col-xs-1\"><i class=\"fa fa-square\"></i></div><div class=\"col-xs-9 margin-item-left\">Our engine detects that in general the reviewers have a <b>positive</b> sentiment.</div></div></span></div><div class=\"analysis-wysk-list-item\"><span><div class=\"row\"><div class=\"col-xs-1\"><i class=\"fa fa-square\"></i></div><div class=\"col-xs-9 margin-item-left\">Our engine has profiled the reviewer patterns and has determined that there is <b>minimal deception</b> involved.</div></div></span></div><div class=\"analysis-wysk-list-item\"><span><div class=\"row\"><div class=\"col-xs-1\"><i class=\"fa fa-square\"></i></div><div class=\"col-xs-9 margin-item-left\">The most used word by reviewers is <b>watch</b>.</div></div></span></div></div></div><hr/><div class=\"analysis-summary-section\"><h4>Reviews summary</h4><div class=\"analysis-summary-text\"><div class=\"review_summary_points\"><h5 class=\"summary_bullet_point\"><div class=\"row\"><div class=\"col-xs-1\"><i class=\"fa fa-square\"></i></div><div class=\"col-xs-9 margin-item-left\">If you have some of these earrings that you can't wear (painful!), i suggest having throckmorton's turn them into gorgeous earrings that you'll enjoy wearing! very expensive engagement ring, to cheap but family heirloom rings for sizing and cleaning </div></div></h5><br/><h5 class=\"summary_bullet_point\"><div class=\"row\"><div class=\"col-xs-1\"><i class=\"fa fa-square\"></i></div><div class=\"col-xs-9 margin-item-left\">They did a beautiful job of converting my mother-in-law's clip earrings with precious stones into pierced earrings </div></div></h5></div><br/></div></div></div></div>,\n",
       " <div class=\"grade-result\"><div class=\"analysis-opinion-text\"><h3><img alt=\"64x64\" class=\"m-l-sm\" height=\"32px\" src=\"/assets/64x64-5faff49869d643c4a7865b8543a2dfc1d2a4d95760b43aeb54b7ad122767bb23.png\"/>You can trust the reviews.</h3><span itemprop=\"ratingValue\" style=\"display:none\">100.0</span><span itemprop=\"bestRating\" style=\"display:none\">100</span><span itemprop=\"worstRating\" style=\"display:none\">0</span></div><hr/><div class=\"analysis-wysk-section\"><h4>Analysis overview</h4><div class=\"analysis-wysk-list\"><div class=\"analysis-wysk-list-item\"><span><div class=\"row\"><div class=\"col-xs-1\"><i class=\"fa fa-square\"></i></div><div class=\"col-xs-9 margin-item-left\">Our engine has discovered that over <b>90%</b> high quality reviews are present.</div></div></span></div><div class=\"analysis-wysk-list-item\"><span><div class=\"row\"><div class=\"col-xs-1\"><i class=\"fa fa-square\"></i></div><div class=\"col-xs-9 margin-item-left\">Our engine detects that in general the reviewers have a <b>positive</b> sentiment.</div></div></span></div><div class=\"analysis-wysk-list-item\"><span><div class=\"row\"><div class=\"col-xs-1\"><i class=\"fa fa-square\"></i></div><div class=\"col-xs-9 margin-item-left\">Our engine has profiled the reviewer patterns and has determined that there is <b>minimal deception</b> involved.</div></div></span></div><div class=\"analysis-wysk-list-item\"><span><div class=\"row\"><div class=\"col-xs-1\"><i class=\"fa fa-square\"></i></div><div class=\"col-xs-9 margin-item-left\">The most used word by reviewers is <b>watch</b>.</div></div></span></div></div></div><hr/><div class=\"analysis-summary-section\"><h4>Reviews summary</h4><div class=\"analysis-summary-text\"><div class=\"review_summary_points\"><h5 class=\"summary_bullet_point\"><div class=\"row\"><div class=\"col-xs-1\"><i class=\"fa fa-square\"></i></div><div class=\"col-xs-9 margin-item-left\">If you have some of these earrings that you can't wear (painful!), i suggest having throckmorton's turn them into gorgeous earrings that you'll enjoy wearing! very expensive engagement ring, to cheap but family heirloom rings for sizing and cleaning </div></div></h5><br/><h5 class=\"summary_bullet_point\"><div class=\"row\"><div class=\"col-xs-1\"><i class=\"fa fa-square\"></i></div><div class=\"col-xs-9 margin-item-left\">They did a beautiful job of converting my mother-in-law's clip earrings with precious stones into pierced earrings </div></div></h5></div><br/></div></div></div>,\n",
       " <div class=\"analysis-opinion-text\"><h3><img alt=\"64x64\" class=\"m-l-sm\" height=\"32px\" src=\"/assets/64x64-5faff49869d643c4a7865b8543a2dfc1d2a4d95760b43aeb54b7ad122767bb23.png\"/>You can trust the reviews.</h3><span itemprop=\"ratingValue\" style=\"display:none\">100.0</span><span itemprop=\"bestRating\" style=\"display:none\">100</span><span itemprop=\"worstRating\" style=\"display:none\">0</span></div>,\n",
       " <div class=\"analysis-wysk-section\"><h4>Analysis overview</h4><div class=\"analysis-wysk-list\"><div class=\"analysis-wysk-list-item\"><span><div class=\"row\"><div class=\"col-xs-1\"><i class=\"fa fa-square\"></i></div><div class=\"col-xs-9 margin-item-left\">Our engine has discovered that over <b>90%</b> high quality reviews are present.</div></div></span></div><div class=\"analysis-wysk-list-item\"><span><div class=\"row\"><div class=\"col-xs-1\"><i class=\"fa fa-square\"></i></div><div class=\"col-xs-9 margin-item-left\">Our engine detects that in general the reviewers have a <b>positive</b> sentiment.</div></div></span></div><div class=\"analysis-wysk-list-item\"><span><div class=\"row\"><div class=\"col-xs-1\"><i class=\"fa fa-square\"></i></div><div class=\"col-xs-9 margin-item-left\">Our engine has profiled the reviewer patterns and has determined that there is <b>minimal deception</b> involved.</div></div></span></div><div class=\"analysis-wysk-list-item\"><span><div class=\"row\"><div class=\"col-xs-1\"><i class=\"fa fa-square\"></i></div><div class=\"col-xs-9 margin-item-left\">The most used word by reviewers is <b>watch</b>.</div></div></span></div></div></div>,\n",
       " <div class=\"analysis-wysk-list\"><div class=\"analysis-wysk-list-item\"><span><div class=\"row\"><div class=\"col-xs-1\"><i class=\"fa fa-square\"></i></div><div class=\"col-xs-9 margin-item-left\">Our engine has discovered that over <b>90%</b> high quality reviews are present.</div></div></span></div><div class=\"analysis-wysk-list-item\"><span><div class=\"row\"><div class=\"col-xs-1\"><i class=\"fa fa-square\"></i></div><div class=\"col-xs-9 margin-item-left\">Our engine detects that in general the reviewers have a <b>positive</b> sentiment.</div></div></span></div><div class=\"analysis-wysk-list-item\"><span><div class=\"row\"><div class=\"col-xs-1\"><i class=\"fa fa-square\"></i></div><div class=\"col-xs-9 margin-item-left\">Our engine has profiled the reviewer patterns and has determined that there is <b>minimal deception</b> involved.</div></div></span></div><div class=\"analysis-wysk-list-item\"><span><div class=\"row\"><div class=\"col-xs-1\"><i class=\"fa fa-square\"></i></div><div class=\"col-xs-9 margin-item-left\">The most used word by reviewers is <b>watch</b>.</div></div></span></div></div>,\n",
       " <div class=\"analysis-wysk-list-item\"><span><div class=\"row\"><div class=\"col-xs-1\"><i class=\"fa fa-square\"></i></div><div class=\"col-xs-9 margin-item-left\">Our engine has discovered that over <b>90%</b> high quality reviews are present.</div></div></span></div>,\n",
       " <div class=\"row\"><div class=\"col-xs-1\"><i class=\"fa fa-square\"></i></div><div class=\"col-xs-9 margin-item-left\">Our engine has discovered that over <b>90%</b> high quality reviews are present.</div></div>,\n",
       " <div class=\"col-xs-1\"><i class=\"fa fa-square\"></i></div>,\n",
       " <div class=\"col-xs-9 margin-item-left\">Our engine has discovered that over <b>90%</b> high quality reviews are present.</div>,\n",
       " <div class=\"analysis-wysk-list-item\"><span><div class=\"row\"><div class=\"col-xs-1\"><i class=\"fa fa-square\"></i></div><div class=\"col-xs-9 margin-item-left\">Our engine detects that in general the reviewers have a <b>positive</b> sentiment.</div></div></span></div>,\n",
       " <div class=\"row\"><div class=\"col-xs-1\"><i class=\"fa fa-square\"></i></div><div class=\"col-xs-9 margin-item-left\">Our engine detects that in general the reviewers have a <b>positive</b> sentiment.</div></div>,\n",
       " <div class=\"col-xs-1\"><i class=\"fa fa-square\"></i></div>,\n",
       " <div class=\"col-xs-9 margin-item-left\">Our engine detects that in general the reviewers have a <b>positive</b> sentiment.</div>,\n",
       " <div class=\"analysis-wysk-list-item\"><span><div class=\"row\"><div class=\"col-xs-1\"><i class=\"fa fa-square\"></i></div><div class=\"col-xs-9 margin-item-left\">Our engine has profiled the reviewer patterns and has determined that there is <b>minimal deception</b> involved.</div></div></span></div>,\n",
       " <div class=\"row\"><div class=\"col-xs-1\"><i class=\"fa fa-square\"></i></div><div class=\"col-xs-9 margin-item-left\">Our engine has profiled the reviewer patterns and has determined that there is <b>minimal deception</b> involved.</div></div>,\n",
       " <div class=\"col-xs-1\"><i class=\"fa fa-square\"></i></div>,\n",
       " <div class=\"col-xs-9 margin-item-left\">Our engine has profiled the reviewer patterns and has determined that there is <b>minimal deception</b> involved.</div>,\n",
       " <div class=\"analysis-wysk-list-item\"><span><div class=\"row\"><div class=\"col-xs-1\"><i class=\"fa fa-square\"></i></div><div class=\"col-xs-9 margin-item-left\">The most used word by reviewers is <b>watch</b>.</div></div></span></div>,\n",
       " <div class=\"row\"><div class=\"col-xs-1\"><i class=\"fa fa-square\"></i></div><div class=\"col-xs-9 margin-item-left\">The most used word by reviewers is <b>watch</b>.</div></div>,\n",
       " <div class=\"col-xs-1\"><i class=\"fa fa-square\"></i></div>,\n",
       " <div class=\"col-xs-9 margin-item-left\">The most used word by reviewers is <b>watch</b>.</div>,\n",
       " <div class=\"analysis-summary-section\"><h4>Reviews summary</h4><div class=\"analysis-summary-text\"><div class=\"review_summary_points\"><h5 class=\"summary_bullet_point\"><div class=\"row\"><div class=\"col-xs-1\"><i class=\"fa fa-square\"></i></div><div class=\"col-xs-9 margin-item-left\">If you have some of these earrings that you can't wear (painful!), i suggest having throckmorton's turn them into gorgeous earrings that you'll enjoy wearing! very expensive engagement ring, to cheap but family heirloom rings for sizing and cleaning </div></div></h5><br/><h5 class=\"summary_bullet_point\"><div class=\"row\"><div class=\"col-xs-1\"><i class=\"fa fa-square\"></i></div><div class=\"col-xs-9 margin-item-left\">They did a beautiful job of converting my mother-in-law's clip earrings with precious stones into pierced earrings </div></div></h5></div><br/></div></div>,\n",
       " <div class=\"analysis-summary-text\"><div class=\"review_summary_points\"><h5 class=\"summary_bullet_point\"><div class=\"row\"><div class=\"col-xs-1\"><i class=\"fa fa-square\"></i></div><div class=\"col-xs-9 margin-item-left\">If you have some of these earrings that you can't wear (painful!), i suggest having throckmorton's turn them into gorgeous earrings that you'll enjoy wearing! very expensive engagement ring, to cheap but family heirloom rings for sizing and cleaning </div></div></h5><br/><h5 class=\"summary_bullet_point\"><div class=\"row\"><div class=\"col-xs-1\"><i class=\"fa fa-square\"></i></div><div class=\"col-xs-9 margin-item-left\">They did a beautiful job of converting my mother-in-law's clip earrings with precious stones into pierced earrings </div></div></h5></div><br/></div>,\n",
       " <div class=\"review_summary_points\"><h5 class=\"summary_bullet_point\"><div class=\"row\"><div class=\"col-xs-1\"><i class=\"fa fa-square\"></i></div><div class=\"col-xs-9 margin-item-left\">If you have some of these earrings that you can't wear (painful!), i suggest having throckmorton's turn them into gorgeous earrings that you'll enjoy wearing! very expensive engagement ring, to cheap but family heirloom rings for sizing and cleaning </div></div></h5><br/><h5 class=\"summary_bullet_point\"><div class=\"row\"><div class=\"col-xs-1\"><i class=\"fa fa-square\"></i></div><div class=\"col-xs-9 margin-item-left\">They did a beautiful job of converting my mother-in-law's clip earrings with precious stones into pierced earrings </div></div></h5></div>,\n",
       " <div class=\"row\"><div class=\"col-xs-1\"><i class=\"fa fa-square\"></i></div><div class=\"col-xs-9 margin-item-left\">If you have some of these earrings that you can't wear (painful!), i suggest having throckmorton's turn them into gorgeous earrings that you'll enjoy wearing! very expensive engagement ring, to cheap but family heirloom rings for sizing and cleaning </div></div>,\n",
       " <div class=\"col-xs-1\"><i class=\"fa fa-square\"></i></div>,\n",
       " <div class=\"col-xs-9 margin-item-left\">If you have some of these earrings that you can't wear (painful!), i suggest having throckmorton's turn them into gorgeous earrings that you'll enjoy wearing! very expensive engagement ring, to cheap but family heirloom rings for sizing and cleaning </div>,\n",
       " <div class=\"row\"><div class=\"col-xs-1\"><i class=\"fa fa-square\"></i></div><div class=\"col-xs-9 margin-item-left\">They did a beautiful job of converting my mother-in-law's clip earrings with precious stones into pierced earrings </div></div>,\n",
       " <div class=\"col-xs-1\"><i class=\"fa fa-square\"></i></div>,\n",
       " <div class=\"col-xs-9 margin-item-left\">They did a beautiful job of converting my mother-in-law's clip earrings with precious stones into pierced earrings </div>,\n",
       " <div class=\"row card-section\"><div class=\"row card-section\"><div class=\"col-xs-12\"><style>\n",
       "   .banner-wide { width: 300px; height: 90px; }\n",
       "   .side-bar-long { width: 300px; height: 550px; }\n",
       "   @media(min-width: 360px) { .banner-wide { width: 100%; height: 90px; } }\n",
       "   @media(min-width: 500px) { .banner-wide { width: 100%; height: 90px; } }\n",
       "   @media(min-width: 800px) { .banner-wide { width: 100%; height: 90px; } }\n",
       " </style>\n",
       " <script async=\"\" src=\"//pagead2.googlesyndication.com/pagead/js/adsbygoogle.js\"></script>\n",
       " <div class=\"\">\n",
       " <!-- Fakespot -->\n",
       " <ins class=\"adsbygoogle banner-wide\" data-ad-client=\"ca-pub-3620359483519245\" data-ad-format=\"\" data-ad-slot=\"6785478219\" style=\"display:inline-block\"></ins>\n",
       " </div>\n",
       " <script>\n",
       "   (adsbygoogle = window.adsbygoogle || []).push({});\n",
       " </script></div></div></div>,\n",
       " <div class=\"row card-section\"><div class=\"col-xs-12\"><style>\n",
       "   .banner-wide { width: 300px; height: 90px; }\n",
       "   .side-bar-long { width: 300px; height: 550px; }\n",
       "   @media(min-width: 360px) { .banner-wide { width: 100%; height: 90px; } }\n",
       "   @media(min-width: 500px) { .banner-wide { width: 100%; height: 90px; } }\n",
       "   @media(min-width: 800px) { .banner-wide { width: 100%; height: 90px; } }\n",
       " </style>\n",
       " <script async=\"\" src=\"//pagead2.googlesyndication.com/pagead/js/adsbygoogle.js\"></script>\n",
       " <div class=\"\">\n",
       " <!-- Fakespot -->\n",
       " <ins class=\"adsbygoogle banner-wide\" data-ad-client=\"ca-pub-3620359483519245\" data-ad-format=\"\" data-ad-slot=\"6785478219\" style=\"display:inline-block\"></ins>\n",
       " </div>\n",
       " <script>\n",
       "   (adsbygoogle = window.adsbygoogle || []).push({});\n",
       " </script></div></div>,\n",
       " <div class=\"col-xs-12\"><style>\n",
       "   .banner-wide { width: 300px; height: 90px; }\n",
       "   .side-bar-long { width: 300px; height: 550px; }\n",
       "   @media(min-width: 360px) { .banner-wide { width: 100%; height: 90px; } }\n",
       "   @media(min-width: 500px) { .banner-wide { width: 100%; height: 90px; } }\n",
       "   @media(min-width: 800px) { .banner-wide { width: 100%; height: 90px; } }\n",
       " </style>\n",
       " <script async=\"\" src=\"//pagead2.googlesyndication.com/pagead/js/adsbygoogle.js\"></script>\n",
       " <div class=\"\">\n",
       " <!-- Fakespot -->\n",
       " <ins class=\"adsbygoogle banner-wide\" data-ad-client=\"ca-pub-3620359483519245\" data-ad-format=\"\" data-ad-slot=\"6785478219\" style=\"display:inline-block\"></ins>\n",
       " </div>\n",
       " <script>\n",
       "   (adsbygoogle = window.adsbygoogle || []).push({});\n",
       " </script></div>,\n",
       " <div class=\"\">\n",
       " <!-- Fakespot -->\n",
       " <ins class=\"adsbygoogle banner-wide\" data-ad-client=\"ca-pub-3620359483519245\" data-ad-format=\"\" data-ad-slot=\"6785478219\" style=\"display:inline-block\"></ins>\n",
       " </div>,\n",
       " <div class=\"analysis-tab-frame\"><br/><div class=\"tabbable\"><ul class=\"nav nav-pills nav-justified\"><li class=\" active\"><a data-toggle=\"tab\" href=\"#tab_74587_1\">Reviews Word Cloud</a></li></ul><div class=\"tab-content\"><br/><div class=\"tab-pane active\" id=\"tab_74587_1\"><div class=\"wordData\" id=\"wordData-74587\">[[\"watch\", 39], [\"ring\", 37], [\"service\", 21], [\"great\", 16], [\"jewelry\", 14], [\"throckmorton's\", 13], [\"time\", 12], [\"about\", 11], [\"back\", 11], [\"here\", 10], [\"went\", 9], [\"place\", 9], [\"jeweler\", 9], [\"new\", 9], [\"shop\", 9], [\"able\", 8], [\"like\", 8], [\"friendly\", 8], [\"look\", 7], [\"took\", 7], [\"rolex\", 7], [\"david\", 7], [\"working\", 7], [\"happy\", 7], [\"how\", 7], [\"other\", 7], [\"business\", 7], [\"work\", 7], [\"staff\", 7], [\"store\", 6], [\"extremely\", 6], [\"prices\", 6], [\"battery\", 6], [\"decided\", 6], [\"water\", 6], [\"told\", 6], [\"repaired\", 6], [\"best\", 6], [\"said\", 6], [\"fix\", 6], [\"thockmorton's\", 6], [\"diamond\", 6], [\"rings\", 6], [\"found\", 6], [\"few\", 5], [\"weeks\", 5], [\"days\", 5], [\"first\", 5], [\"who\", 5], [\"wife\", 5], [\"need\", 5], [\"repair\", 5], [\"call\", 5], [\"replacement\", 5], [\"reviews\", 5], [\"again\", 5], [\"resized\", 5], [\"servicing\", 5], [\"her\", 5], [\"well\", 5], [\"size\", 5], [\"brought\", 5], [\"customer\", 5], [\"good\", 5], [\"professional\", 5]]</div><div class=\"wordCloud\" id=\"wordCloud-74587\"></div></div></div></div></div>,\n",
       " <div class=\"tabbable\"><ul class=\"nav nav-pills nav-justified\"><li class=\" active\"><a data-toggle=\"tab\" href=\"#tab_74587_1\">Reviews Word Cloud</a></li></ul><div class=\"tab-content\"><br/><div class=\"tab-pane active\" id=\"tab_74587_1\"><div class=\"wordData\" id=\"wordData-74587\">[[\"watch\", 39], [\"ring\", 37], [\"service\", 21], [\"great\", 16], [\"jewelry\", 14], [\"throckmorton's\", 13], [\"time\", 12], [\"about\", 11], [\"back\", 11], [\"here\", 10], [\"went\", 9], [\"place\", 9], [\"jeweler\", 9], [\"new\", 9], [\"shop\", 9], [\"able\", 8], [\"like\", 8], [\"friendly\", 8], [\"look\", 7], [\"took\", 7], [\"rolex\", 7], [\"david\", 7], [\"working\", 7], [\"happy\", 7], [\"how\", 7], [\"other\", 7], [\"business\", 7], [\"work\", 7], [\"staff\", 7], [\"store\", 6], [\"extremely\", 6], [\"prices\", 6], [\"battery\", 6], [\"decided\", 6], [\"water\", 6], [\"told\", 6], [\"repaired\", 6], [\"best\", 6], [\"said\", 6], [\"fix\", 6], [\"thockmorton's\", 6], [\"diamond\", 6], [\"rings\", 6], [\"found\", 6], [\"few\", 5], [\"weeks\", 5], [\"days\", 5], [\"first\", 5], [\"who\", 5], [\"wife\", 5], [\"need\", 5], [\"repair\", 5], [\"call\", 5], [\"replacement\", 5], [\"reviews\", 5], [\"again\", 5], [\"resized\", 5], [\"servicing\", 5], [\"her\", 5], [\"well\", 5], [\"size\", 5], [\"brought\", 5], [\"customer\", 5], [\"good\", 5], [\"professional\", 5]]</div><div class=\"wordCloud\" id=\"wordCloud-74587\"></div></div></div></div>,\n",
       " <div class=\"tab-content\"><br/><div class=\"tab-pane active\" id=\"tab_74587_1\"><div class=\"wordData\" id=\"wordData-74587\">[[\"watch\", 39], [\"ring\", 37], [\"service\", 21], [\"great\", 16], [\"jewelry\", 14], [\"throckmorton's\", 13], [\"time\", 12], [\"about\", 11], [\"back\", 11], [\"here\", 10], [\"went\", 9], [\"place\", 9], [\"jeweler\", 9], [\"new\", 9], [\"shop\", 9], [\"able\", 8], [\"like\", 8], [\"friendly\", 8], [\"look\", 7], [\"took\", 7], [\"rolex\", 7], [\"david\", 7], [\"working\", 7], [\"happy\", 7], [\"how\", 7], [\"other\", 7], [\"business\", 7], [\"work\", 7], [\"staff\", 7], [\"store\", 6], [\"extremely\", 6], [\"prices\", 6], [\"battery\", 6], [\"decided\", 6], [\"water\", 6], [\"told\", 6], [\"repaired\", 6], [\"best\", 6], [\"said\", 6], [\"fix\", 6], [\"thockmorton's\", 6], [\"diamond\", 6], [\"rings\", 6], [\"found\", 6], [\"few\", 5], [\"weeks\", 5], [\"days\", 5], [\"first\", 5], [\"who\", 5], [\"wife\", 5], [\"need\", 5], [\"repair\", 5], [\"call\", 5], [\"replacement\", 5], [\"reviews\", 5], [\"again\", 5], [\"resized\", 5], [\"servicing\", 5], [\"her\", 5], [\"well\", 5], [\"size\", 5], [\"brought\", 5], [\"customer\", 5], [\"good\", 5], [\"professional\", 5]]</div><div class=\"wordCloud\" id=\"wordCloud-74587\"></div></div></div>,\n",
       " <div class=\"tab-pane active\" id=\"tab_74587_1\"><div class=\"wordData\" id=\"wordData-74587\">[[\"watch\", 39], [\"ring\", 37], [\"service\", 21], [\"great\", 16], [\"jewelry\", 14], [\"throckmorton's\", 13], [\"time\", 12], [\"about\", 11], [\"back\", 11], [\"here\", 10], [\"went\", 9], [\"place\", 9], [\"jeweler\", 9], [\"new\", 9], [\"shop\", 9], [\"able\", 8], [\"like\", 8], [\"friendly\", 8], [\"look\", 7], [\"took\", 7], [\"rolex\", 7], [\"david\", 7], [\"working\", 7], [\"happy\", 7], [\"how\", 7], [\"other\", 7], [\"business\", 7], [\"work\", 7], [\"staff\", 7], [\"store\", 6], [\"extremely\", 6], [\"prices\", 6], [\"battery\", 6], [\"decided\", 6], [\"water\", 6], [\"told\", 6], [\"repaired\", 6], [\"best\", 6], [\"said\", 6], [\"fix\", 6], [\"thockmorton's\", 6], [\"diamond\", 6], [\"rings\", 6], [\"found\", 6], [\"few\", 5], [\"weeks\", 5], [\"days\", 5], [\"first\", 5], [\"who\", 5], [\"wife\", 5], [\"need\", 5], [\"repair\", 5], [\"call\", 5], [\"replacement\", 5], [\"reviews\", 5], [\"again\", 5], [\"resized\", 5], [\"servicing\", 5], [\"her\", 5], [\"well\", 5], [\"size\", 5], [\"brought\", 5], [\"customer\", 5], [\"good\", 5], [\"professional\", 5]]</div><div class=\"wordCloud\" id=\"wordCloud-74587\"></div></div>,\n",
       " <div class=\"wordData\" id=\"wordData-74587\">[[\"watch\", 39], [\"ring\", 37], [\"service\", 21], [\"great\", 16], [\"jewelry\", 14], [\"throckmorton's\", 13], [\"time\", 12], [\"about\", 11], [\"back\", 11], [\"here\", 10], [\"went\", 9], [\"place\", 9], [\"jeweler\", 9], [\"new\", 9], [\"shop\", 9], [\"able\", 8], [\"like\", 8], [\"friendly\", 8], [\"look\", 7], [\"took\", 7], [\"rolex\", 7], [\"david\", 7], [\"working\", 7], [\"happy\", 7], [\"how\", 7], [\"other\", 7], [\"business\", 7], [\"work\", 7], [\"staff\", 7], [\"store\", 6], [\"extremely\", 6], [\"prices\", 6], [\"battery\", 6], [\"decided\", 6], [\"water\", 6], [\"told\", 6], [\"repaired\", 6], [\"best\", 6], [\"said\", 6], [\"fix\", 6], [\"thockmorton's\", 6], [\"diamond\", 6], [\"rings\", 6], [\"found\", 6], [\"few\", 5], [\"weeks\", 5], [\"days\", 5], [\"first\", 5], [\"who\", 5], [\"wife\", 5], [\"need\", 5], [\"repair\", 5], [\"call\", 5], [\"replacement\", 5], [\"reviews\", 5], [\"again\", 5], [\"resized\", 5], [\"servicing\", 5], [\"her\", 5], [\"well\", 5], [\"size\", 5], [\"brought\", 5], [\"customer\", 5], [\"good\", 5], [\"professional\", 5]]</div>,\n",
       " <div class=\"wordCloud\" id=\"wordCloud-74587\"></div>,\n",
       " <div class=\"col-sm-4 text-center\"><div class=\"grade-big card-new clearfix\"><div class=\"grade-box badge grade-a\"><h3 class=\"lead-in-text grade-a\">Fakespot Grade</h3><div class=\"grade-rating font-grade-a\">A</div></div></div><div class=\"analysis-share-links card-new clearfix\"><div class=\"vote_bx\" id=\"vote_box_74587\"><div>Do you agree with this analysis?</div><span class=\"vote-yes m-l-sm\"><a data-remote=\"true\" href=\"/vote?id=74587&amp;type=yelp&amp;vote=yes\"><i class=\"fa fa-thumbs-up\"></i></a></span><span class=\"vote-no m-l-sm\"><a data-remote=\"true\" href=\"/vote?id=74587&amp;type=yelp&amp;vote=no\"><i class=\"fa fa-thumbs-down\"></i></a></span></div><br/><span class=\"col-xs-12\">Share this analysis (<a href=\"http://www.fakespot.com/business/throckmorton-s\">direct link</a>)</span><div class=\"social-share-button\" data-desc=\"Fakespot Analysis for Throckmorton’s\" data-img=\"\" data-title=\"Throckmorton’s\" data-url=\"http://www.fakespot.com/yelp/business/throckmorton-s\">\n",
       " <a class=\"social-share-button-twitter\" data-site=\"twitter\" href=\"#\" onclick=\"return SocialShareButton.share(this);\" rel=\"nofollow \" title=\"Share to Twitter\"></a>\n",
       " <a class=\"social-share-button-facebook\" data-site=\"facebook\" href=\"#\" onclick=\"return SocialShareButton.share(this);\" rel=\"nofollow \" title=\"Share to Facebook\"></a>\n",
       " <a class=\"social-share-button-google_plus\" data-site=\"google_plus\" href=\"#\" onclick=\"return SocialShareButton.share(this);\" rel=\"nofollow \" title=\"Share to Google+\"></a>\n",
       " <a class=\"social-share-button-baidu\" data-site=\"baidu\" href=\"#\" onclick=\"return SocialShareButton.share(this);\" rel=\"nofollow \" title=\"Share to Baidu.com\"></a>\n",
       " <a class=\"social-share-button-google_bookmark\" data-site=\"google_bookmark\" href=\"#\" onclick=\"return SocialShareButton.share(this);\" rel=\"nofollow \" title=\"Share to Google Bookmark\"></a>\n",
       " <a class=\"social-share-button-delicious\" data-site=\"delicious\" href=\"#\" onclick=\"return SocialShareButton.share(this);\" rel=\"nofollow \" title=\"Share to Delicious\"></a>\n",
       " <a class=\"social-share-button-tumblr\" data-site=\"tumblr\" href=\"#\" onclick=\"return SocialShareButton.share(this);\" rel=\"nofollow \" title=\"Share to Tumblr\"></a>\n",
       " <a class=\"social-share-button-plurk\" data-site=\"plurk\" href=\"#\" onclick=\"return SocialShareButton.share(this);\" rel=\"nofollow \" title=\"Share to Plurk\"></a>\n",
       " <a class=\"social-share-button-pinterest\" data-site=\"pinterest\" href=\"#\" onclick=\"return SocialShareButton.share(this);\" rel=\"nofollow \" title=\"Share to Pinterest\"></a>\n",
       " </div></div><br/><div class=\"product-analysis-advert\"><style>\n",
       "   .banner-narrow { width: 300px; height: 250px; }\n",
       "   @media(min-width: 360px) { .banner-narrow { width: 100%; height: 150px; } }\n",
       "   @media(min-width: 500px) { .banner-narrow { width: 100%; height: 200px; } }\n",
       "   @media(min-width: 800px) { .banner-narrow { width: 100%; height: 250px; } }\n",
       " </style>\n",
       " <script async=\"\" src=\"//pagead2.googlesyndication.com/pagead/js/adsbygoogle.js\"></script>\n",
       " <!-- Fakespot Product Ad 3 -->\n",
       " <ins class=\"adsbygoogle banner-narrow\" data-ad-client=\"ca-pub-3620359483519245\" data-ad-slot=\"9610040615\" style=\"display:inline-block;\"></ins>\n",
       " <script>\n",
       "     (adsbygoogle = window.adsbygoogle || []).push({});\n",
       " </script></div></div>,\n",
       " <div class=\"grade-big card-new clearfix\"><div class=\"grade-box badge grade-a\"><h3 class=\"lead-in-text grade-a\">Fakespot Grade</h3><div class=\"grade-rating font-grade-a\">A</div></div></div>,\n",
       " <div class=\"grade-box badge grade-a\"><h3 class=\"lead-in-text grade-a\">Fakespot Grade</h3><div class=\"grade-rating font-grade-a\">A</div></div>,\n",
       " <div class=\"grade-rating font-grade-a\">A</div>,\n",
       " <div class=\"analysis-share-links card-new clearfix\"><div class=\"vote_bx\" id=\"vote_box_74587\"><div>Do you agree with this analysis?</div><span class=\"vote-yes m-l-sm\"><a data-remote=\"true\" href=\"/vote?id=74587&amp;type=yelp&amp;vote=yes\"><i class=\"fa fa-thumbs-up\"></i></a></span><span class=\"vote-no m-l-sm\"><a data-remote=\"true\" href=\"/vote?id=74587&amp;type=yelp&amp;vote=no\"><i class=\"fa fa-thumbs-down\"></i></a></span></div><br/><span class=\"col-xs-12\">Share this analysis (<a href=\"http://www.fakespot.com/business/throckmorton-s\">direct link</a>)</span><div class=\"social-share-button\" data-desc=\"Fakespot Analysis for Throckmorton’s\" data-img=\"\" data-title=\"Throckmorton’s\" data-url=\"http://www.fakespot.com/yelp/business/throckmorton-s\">\n",
       " <a class=\"social-share-button-twitter\" data-site=\"twitter\" href=\"#\" onclick=\"return SocialShareButton.share(this);\" rel=\"nofollow \" title=\"Share to Twitter\"></a>\n",
       " <a class=\"social-share-button-facebook\" data-site=\"facebook\" href=\"#\" onclick=\"return SocialShareButton.share(this);\" rel=\"nofollow \" title=\"Share to Facebook\"></a>\n",
       " <a class=\"social-share-button-google_plus\" data-site=\"google_plus\" href=\"#\" onclick=\"return SocialShareButton.share(this);\" rel=\"nofollow \" title=\"Share to Google+\"></a>\n",
       " <a class=\"social-share-button-baidu\" data-site=\"baidu\" href=\"#\" onclick=\"return SocialShareButton.share(this);\" rel=\"nofollow \" title=\"Share to Baidu.com\"></a>\n",
       " <a class=\"social-share-button-google_bookmark\" data-site=\"google_bookmark\" href=\"#\" onclick=\"return SocialShareButton.share(this);\" rel=\"nofollow \" title=\"Share to Google Bookmark\"></a>\n",
       " <a class=\"social-share-button-delicious\" data-site=\"delicious\" href=\"#\" onclick=\"return SocialShareButton.share(this);\" rel=\"nofollow \" title=\"Share to Delicious\"></a>\n",
       " <a class=\"social-share-button-tumblr\" data-site=\"tumblr\" href=\"#\" onclick=\"return SocialShareButton.share(this);\" rel=\"nofollow \" title=\"Share to Tumblr\"></a>\n",
       " <a class=\"social-share-button-plurk\" data-site=\"plurk\" href=\"#\" onclick=\"return SocialShareButton.share(this);\" rel=\"nofollow \" title=\"Share to Plurk\"></a>\n",
       " <a class=\"social-share-button-pinterest\" data-site=\"pinterest\" href=\"#\" onclick=\"return SocialShareButton.share(this);\" rel=\"nofollow \" title=\"Share to Pinterest\"></a>\n",
       " </div></div>,\n",
       " <div class=\"vote_bx\" id=\"vote_box_74587\"><div>Do you agree with this analysis?</div><span class=\"vote-yes m-l-sm\"><a data-remote=\"true\" href=\"/vote?id=74587&amp;type=yelp&amp;vote=yes\"><i class=\"fa fa-thumbs-up\"></i></a></span><span class=\"vote-no m-l-sm\"><a data-remote=\"true\" href=\"/vote?id=74587&amp;type=yelp&amp;vote=no\"><i class=\"fa fa-thumbs-down\"></i></a></span></div>,\n",
       " <div>Do you agree with this analysis?</div>,\n",
       " <div class=\"social-share-button\" data-desc=\"Fakespot Analysis for Throckmorton’s\" data-img=\"\" data-title=\"Throckmorton’s\" data-url=\"http://www.fakespot.com/yelp/business/throckmorton-s\">\n",
       " <a class=\"social-share-button-twitter\" data-site=\"twitter\" href=\"#\" onclick=\"return SocialShareButton.share(this);\" rel=\"nofollow \" title=\"Share to Twitter\"></a>\n",
       " <a class=\"social-share-button-facebook\" data-site=\"facebook\" href=\"#\" onclick=\"return SocialShareButton.share(this);\" rel=\"nofollow \" title=\"Share to Facebook\"></a>\n",
       " <a class=\"social-share-button-google_plus\" data-site=\"google_plus\" href=\"#\" onclick=\"return SocialShareButton.share(this);\" rel=\"nofollow \" title=\"Share to Google+\"></a>\n",
       " <a class=\"social-share-button-baidu\" data-site=\"baidu\" href=\"#\" onclick=\"return SocialShareButton.share(this);\" rel=\"nofollow \" title=\"Share to Baidu.com\"></a>\n",
       " <a class=\"social-share-button-google_bookmark\" data-site=\"google_bookmark\" href=\"#\" onclick=\"return SocialShareButton.share(this);\" rel=\"nofollow \" title=\"Share to Google Bookmark\"></a>\n",
       " <a class=\"social-share-button-delicious\" data-site=\"delicious\" href=\"#\" onclick=\"return SocialShareButton.share(this);\" rel=\"nofollow \" title=\"Share to Delicious\"></a>\n",
       " <a class=\"social-share-button-tumblr\" data-site=\"tumblr\" href=\"#\" onclick=\"return SocialShareButton.share(this);\" rel=\"nofollow \" title=\"Share to Tumblr\"></a>\n",
       " <a class=\"social-share-button-plurk\" data-site=\"plurk\" href=\"#\" onclick=\"return SocialShareButton.share(this);\" rel=\"nofollow \" title=\"Share to Plurk\"></a>\n",
       " <a class=\"social-share-button-pinterest\" data-site=\"pinterest\" href=\"#\" onclick=\"return SocialShareButton.share(this);\" rel=\"nofollow \" title=\"Share to Pinterest\"></a>\n",
       " </div>,\n",
       " <div class=\"product-analysis-advert\"><style>\n",
       "   .banner-narrow { width: 300px; height: 250px; }\n",
       "   @media(min-width: 360px) { .banner-narrow { width: 100%; height: 150px; } }\n",
       "   @media(min-width: 500px) { .banner-narrow { width: 100%; height: 200px; } }\n",
       "   @media(min-width: 800px) { .banner-narrow { width: 100%; height: 250px; } }\n",
       " </style>\n",
       " <script async=\"\" src=\"//pagead2.googlesyndication.com/pagead/js/adsbygoogle.js\"></script>\n",
       " <!-- Fakespot Product Ad 3 -->\n",
       " <ins class=\"adsbygoogle banner-narrow\" data-ad-client=\"ca-pub-3620359483519245\" data-ad-slot=\"9610040615\" style=\"display:inline-block;\"></ins>\n",
       " <script>\n",
       "     (adsbygoogle = window.adsbygoogle || []).push({});\n",
       " </script></div>,\n",
       " <div class=\"frm-result\"></div>,\n",
       " <div id=\"loading-div-background\"><div id=\"loading-div\"><img alt=\"Ring alt\" class=\"loader-img\" src=\"/assets/ring-alt-5ad88c1317e462f39d17d24a2bed0246e822344bed0fb6ecd8220c1da651cda6.svg\"/></div></div>,\n",
       " <div id=\"loading-div\"><img alt=\"Ring alt\" class=\"loader-img\" src=\"/assets/ring-alt-5ad88c1317e462f39d17d24a2bed0246e822344bed0fb6ecd8220c1da651cda6.svg\"/></div>,\n",
       " <div class=\"footer\"><div class=\"container\"><div class=\"col-xs-12 col-sm-3 text-left\"><div class=\"footer-logo\"><img alt=\"FakeSpot check\" src=\"/assets/footer_logo-8e0a9b4933fc800e9da00c89afb8c1abdd3c61aeacb66b19e3738f947ddc2655.png\" target=\"_blank\"/></div><ul class=\"first-column\"><li class=\"footer-title\">Fakespot</li><li><a class=\"footer-link\" href=\"/\">Home</a></li><li><a class=\"footer-link\" href=\"/about\">About</a></li><li><a class=\"footer-link\" href=\"/press\">Press</a></li><li><a class=\"footer-link\" href=\"http://fakespot.tumblr.com\" target=\"_blank\">Blog</a></li></ul></div><div class=\"col-xs-12 col-sm-3 text-left\"><ul><li class=\"footer-title\">Reviews</li><li><a class=\"footer-link\" href=\"/best-products\">Best Reviewed Products</a></li><li><a class=\"footer-link\" href=\"/last-analysis\">Last Analysis</a></li><li><a class=\"footer-link\" href=\"https://www.fakespot.com/blog\" target=\"_blank\">Analysis Blog</a></li></ul></div><div class=\"col-xs-12 col-sm-3 text-left\"><ul><li class=\"footer-title\">Support</li><li><a class=\"footer-link\" href=\"mailto:contact@fakespot.com\">Contact</a></li><li><a class=\"footer-link\" href=\"/faq\">Frequently Asked Questions</a></li><li><a class=\"footer-link\" href=\"/legal\">Legal &amp; Terms of Use</a></li><li><a class=\"footer-link\" href=\"/privacy-policy\">Privacy Policy</a></li></ul></div><div class=\"col-xs-12 col-sm-3\"><div class=\"small-icon\"><a href=\"https://www.facebook.com/FakespotAnalyzer/\"><img alt=\"Fakespot Facebook\" src=\"/assets/facebook_circle-09c66b5507a6e731e57dc2ebdee7e8a75e0c2993784138d5c1d3e476d8be704b.png\" target=\"_blank\"/></a></div><div class=\"small-icon\"><a href=\"https://twitter.com/fakespottweets\"><img alt=\"Fakespot Facebook\" src=\"/assets/twitter_circle-622a758d7a12ff03313ce35ec17e3f3530b5de1f5561dd2f10efe5a78b5b4b9d.png\" target=\"_blank\"/></a></div><div class=\"small-icon\"><a href=\"https://fakespot.tumblr.com\"><img alt=\"Fakespot Tumblr\" src=\"/assets/tumblr_circle-2544e1daf28b9f042baadfadf3c932196eeff98cd8482c4b1dc345f246d45061.png\" target=\"_blank\"/></a></div><div class=\"footer-subscribe\"><p class=\"footer-title\">SUBSCRIBE</p><div class=\"subscribe-form subscribe-form-footer\"><form accept-charset=\"UTF-8\" action=\"/subscribe\" class=\"subscribe-form-tag\" data-remote=\"true\" method=\"get\"><input name=\"utf8\" type=\"hidden\" value=\"✓\"/><div class=\"form-group\"><span class=\"error-msg\"></span><input id=\"footer\" name=\"footer\" type=\"hidden\" value=\"true\"/><input class=\"form-control email-input\" id=\"email\" name=\"email\" placeholder=\"Your Email\" size=\"125\" type=\"email\"/><input class=\"btn btn-info call-to-action subscribe-button btn-block\" name=\"commit\" type=\"submit\" value=\"Subscribe\"/></div></form></div></div></div><br/><p class=\"aff-disc\">Fakespot is NOT an affiliate in the Amazon Associates program. Fakespot does NOT evaluate or recommend products. Fakespot only evaluates and checks reviews.</p></div></div>,\n",
       " <div class=\"container\"><div class=\"col-xs-12 col-sm-3 text-left\"><div class=\"footer-logo\"><img alt=\"FakeSpot check\" src=\"/assets/footer_logo-8e0a9b4933fc800e9da00c89afb8c1abdd3c61aeacb66b19e3738f947ddc2655.png\" target=\"_blank\"/></div><ul class=\"first-column\"><li class=\"footer-title\">Fakespot</li><li><a class=\"footer-link\" href=\"/\">Home</a></li><li><a class=\"footer-link\" href=\"/about\">About</a></li><li><a class=\"footer-link\" href=\"/press\">Press</a></li><li><a class=\"footer-link\" href=\"http://fakespot.tumblr.com\" target=\"_blank\">Blog</a></li></ul></div><div class=\"col-xs-12 col-sm-3 text-left\"><ul><li class=\"footer-title\">Reviews</li><li><a class=\"footer-link\" href=\"/best-products\">Best Reviewed Products</a></li><li><a class=\"footer-link\" href=\"/last-analysis\">Last Analysis</a></li><li><a class=\"footer-link\" href=\"https://www.fakespot.com/blog\" target=\"_blank\">Analysis Blog</a></li></ul></div><div class=\"col-xs-12 col-sm-3 text-left\"><ul><li class=\"footer-title\">Support</li><li><a class=\"footer-link\" href=\"mailto:contact@fakespot.com\">Contact</a></li><li><a class=\"footer-link\" href=\"/faq\">Frequently Asked Questions</a></li><li><a class=\"footer-link\" href=\"/legal\">Legal &amp; Terms of Use</a></li><li><a class=\"footer-link\" href=\"/privacy-policy\">Privacy Policy</a></li></ul></div><div class=\"col-xs-12 col-sm-3\"><div class=\"small-icon\"><a href=\"https://www.facebook.com/FakespotAnalyzer/\"><img alt=\"Fakespot Facebook\" src=\"/assets/facebook_circle-09c66b5507a6e731e57dc2ebdee7e8a75e0c2993784138d5c1d3e476d8be704b.png\" target=\"_blank\"/></a></div><div class=\"small-icon\"><a href=\"https://twitter.com/fakespottweets\"><img alt=\"Fakespot Facebook\" src=\"/assets/twitter_circle-622a758d7a12ff03313ce35ec17e3f3530b5de1f5561dd2f10efe5a78b5b4b9d.png\" target=\"_blank\"/></a></div><div class=\"small-icon\"><a href=\"https://fakespot.tumblr.com\"><img alt=\"Fakespot Tumblr\" src=\"/assets/tumblr_circle-2544e1daf28b9f042baadfadf3c932196eeff98cd8482c4b1dc345f246d45061.png\" target=\"_blank\"/></a></div><div class=\"footer-subscribe\"><p class=\"footer-title\">SUBSCRIBE</p><div class=\"subscribe-form subscribe-form-footer\"><form accept-charset=\"UTF-8\" action=\"/subscribe\" class=\"subscribe-form-tag\" data-remote=\"true\" method=\"get\"><input name=\"utf8\" type=\"hidden\" value=\"✓\"/><div class=\"form-group\"><span class=\"error-msg\"></span><input id=\"footer\" name=\"footer\" type=\"hidden\" value=\"true\"/><input class=\"form-control email-input\" id=\"email\" name=\"email\" placeholder=\"Your Email\" size=\"125\" type=\"email\"/><input class=\"btn btn-info call-to-action subscribe-button btn-block\" name=\"commit\" type=\"submit\" value=\"Subscribe\"/></div></form></div></div></div><br/><p class=\"aff-disc\">Fakespot is NOT an affiliate in the Amazon Associates program. Fakespot does NOT evaluate or recommend products. Fakespot only evaluates and checks reviews.</p></div>,\n",
       " <div class=\"col-xs-12 col-sm-3 text-left\"><div class=\"footer-logo\"><img alt=\"FakeSpot check\" src=\"/assets/footer_logo-8e0a9b4933fc800e9da00c89afb8c1abdd3c61aeacb66b19e3738f947ddc2655.png\" target=\"_blank\"/></div><ul class=\"first-column\"><li class=\"footer-title\">Fakespot</li><li><a class=\"footer-link\" href=\"/\">Home</a></li><li><a class=\"footer-link\" href=\"/about\">About</a></li><li><a class=\"footer-link\" href=\"/press\">Press</a></li><li><a class=\"footer-link\" href=\"http://fakespot.tumblr.com\" target=\"_blank\">Blog</a></li></ul></div>,\n",
       " <div class=\"footer-logo\"><img alt=\"FakeSpot check\" src=\"/assets/footer_logo-8e0a9b4933fc800e9da00c89afb8c1abdd3c61aeacb66b19e3738f947ddc2655.png\" target=\"_blank\"/></div>,\n",
       " <div class=\"col-xs-12 col-sm-3 text-left\"><ul><li class=\"footer-title\">Reviews</li><li><a class=\"footer-link\" href=\"/best-products\">Best Reviewed Products</a></li><li><a class=\"footer-link\" href=\"/last-analysis\">Last Analysis</a></li><li><a class=\"footer-link\" href=\"https://www.fakespot.com/blog\" target=\"_blank\">Analysis Blog</a></li></ul></div>,\n",
       " <div class=\"col-xs-12 col-sm-3 text-left\"><ul><li class=\"footer-title\">Support</li><li><a class=\"footer-link\" href=\"mailto:contact@fakespot.com\">Contact</a></li><li><a class=\"footer-link\" href=\"/faq\">Frequently Asked Questions</a></li><li><a class=\"footer-link\" href=\"/legal\">Legal &amp; Terms of Use</a></li><li><a class=\"footer-link\" href=\"/privacy-policy\">Privacy Policy</a></li></ul></div>,\n",
       " <div class=\"col-xs-12 col-sm-3\"><div class=\"small-icon\"><a href=\"https://www.facebook.com/FakespotAnalyzer/\"><img alt=\"Fakespot Facebook\" src=\"/assets/facebook_circle-09c66b5507a6e731e57dc2ebdee7e8a75e0c2993784138d5c1d3e476d8be704b.png\" target=\"_blank\"/></a></div><div class=\"small-icon\"><a href=\"https://twitter.com/fakespottweets\"><img alt=\"Fakespot Facebook\" src=\"/assets/twitter_circle-622a758d7a12ff03313ce35ec17e3f3530b5de1f5561dd2f10efe5a78b5b4b9d.png\" target=\"_blank\"/></a></div><div class=\"small-icon\"><a href=\"https://fakespot.tumblr.com\"><img alt=\"Fakespot Tumblr\" src=\"/assets/tumblr_circle-2544e1daf28b9f042baadfadf3c932196eeff98cd8482c4b1dc345f246d45061.png\" target=\"_blank\"/></a></div><div class=\"footer-subscribe\"><p class=\"footer-title\">SUBSCRIBE</p><div class=\"subscribe-form subscribe-form-footer\"><form accept-charset=\"UTF-8\" action=\"/subscribe\" class=\"subscribe-form-tag\" data-remote=\"true\" method=\"get\"><input name=\"utf8\" type=\"hidden\" value=\"✓\"/><div class=\"form-group\"><span class=\"error-msg\"></span><input id=\"footer\" name=\"footer\" type=\"hidden\" value=\"true\"/><input class=\"form-control email-input\" id=\"email\" name=\"email\" placeholder=\"Your Email\" size=\"125\" type=\"email\"/><input class=\"btn btn-info call-to-action subscribe-button btn-block\" name=\"commit\" type=\"submit\" value=\"Subscribe\"/></div></form></div></div></div>,\n",
       " <div class=\"small-icon\"><a href=\"https://www.facebook.com/FakespotAnalyzer/\"><img alt=\"Fakespot Facebook\" src=\"/assets/facebook_circle-09c66b5507a6e731e57dc2ebdee7e8a75e0c2993784138d5c1d3e476d8be704b.png\" target=\"_blank\"/></a></div>,\n",
       " <div class=\"small-icon\"><a href=\"https://twitter.com/fakespottweets\"><img alt=\"Fakespot Facebook\" src=\"/assets/twitter_circle-622a758d7a12ff03313ce35ec17e3f3530b5de1f5561dd2f10efe5a78b5b4b9d.png\" target=\"_blank\"/></a></div>,\n",
       " <div class=\"small-icon\"><a href=\"https://fakespot.tumblr.com\"><img alt=\"Fakespot Tumblr\" src=\"/assets/tumblr_circle-2544e1daf28b9f042baadfadf3c932196eeff98cd8482c4b1dc345f246d45061.png\" target=\"_blank\"/></a></div>,\n",
       " <div class=\"footer-subscribe\"><p class=\"footer-title\">SUBSCRIBE</p><div class=\"subscribe-form subscribe-form-footer\"><form accept-charset=\"UTF-8\" action=\"/subscribe\" class=\"subscribe-form-tag\" data-remote=\"true\" method=\"get\"><input name=\"utf8\" type=\"hidden\" value=\"✓\"/><div class=\"form-group\"><span class=\"error-msg\"></span><input id=\"footer\" name=\"footer\" type=\"hidden\" value=\"true\"/><input class=\"form-control email-input\" id=\"email\" name=\"email\" placeholder=\"Your Email\" size=\"125\" type=\"email\"/><input class=\"btn btn-info call-to-action subscribe-button btn-block\" name=\"commit\" type=\"submit\" value=\"Subscribe\"/></div></form></div></div>,\n",
       " <div class=\"subscribe-form subscribe-form-footer\"><form accept-charset=\"UTF-8\" action=\"/subscribe\" class=\"subscribe-form-tag\" data-remote=\"true\" method=\"get\"><input name=\"utf8\" type=\"hidden\" value=\"✓\"/><div class=\"form-group\"><span class=\"error-msg\"></span><input id=\"footer\" name=\"footer\" type=\"hidden\" value=\"true\"/><input class=\"form-control email-input\" id=\"email\" name=\"email\" placeholder=\"Your Email\" size=\"125\" type=\"email\"/><input class=\"btn btn-info call-to-action subscribe-button btn-block\" name=\"commit\" type=\"submit\" value=\"Subscribe\"/></div></form></div>,\n",
       " <div class=\"form-group\"><span class=\"error-msg\"></span><input id=\"footer\" name=\"footer\" type=\"hidden\" value=\"true\"/><input class=\"form-control email-input\" id=\"email\" name=\"email\" placeholder=\"Your Email\" size=\"125\" type=\"email\"/><input class=\"btn btn-info call-to-action subscribe-button btn-block\" name=\"commit\" type=\"submit\" value=\"Subscribe\"/></div>,\n",
       " <div class=\"bottom-page\"><div class=\"container\"><p>Copyright 2017 Fakespot</p><p class=\"top\"><a href=\"#top\">Back to Top</a></p></div></div>,\n",
       " <div class=\"container\"><p>Copyright 2017 Fakespot</p><p class=\"top\"><a href=\"#top\">Back to Top</a></p></div>]"
      ]
     },
     "execution_count": 135,
     "metadata": {},
     "output_type": "execute_result"
    }
   ],
   "source": [
    "soup.find_all('div')"
   ]
  },
  {
   "cell_type": "code",
   "execution_count": null,
   "metadata": {
    "collapsed": true
   },
   "outputs": [],
   "source": [
    "for link in soup.find_all('a'):\n",
    "    "
   ]
  },
  {
   "cell_type": "code",
   "execution_count": 153,
   "metadata": {
    "collapsed": true
   },
   "outputs": [],
   "source": [
    "from nltk.tokenize import sent_tokenize,word_tokenize"
   ]
  },
  {
   "cell_type": "code",
   "execution_count": 154,
   "metadata": {
    "collapsed": true
   },
   "outputs": [],
   "source": [
    "example_text = \"What are you doing in there? You need to leave as soon as possible\""
   ]
  },
  {
   "cell_type": "code",
   "execution_count": 155,
   "metadata": {
    "collapsed": true
   },
   "outputs": [],
   "source": [
    "example_text_1 = \"Hellow Mr.Smith, How are you doing today? The weather is nice today\""
   ]
  },
  {
   "cell_type": "code",
   "execution_count": 156,
   "metadata": {},
   "outputs": [
    {
     "data": {
      "text/plain": [
       "['What are you doing in there?', 'You need to leave as soon as possible']"
      ]
     },
     "execution_count": 156,
     "metadata": {},
     "output_type": "execute_result"
    }
   ],
   "source": [
    "sent_tokenize(example_text)"
   ]
  },
  {
   "cell_type": "code",
   "execution_count": 157,
   "metadata": {},
   "outputs": [
    {
     "data": {
      "text/plain": [
       "['Hellow',\n",
       " 'Mr.Smith',\n",
       " ',',\n",
       " 'How',\n",
       " 'are',\n",
       " 'you',\n",
       " 'doing',\n",
       " 'today',\n",
       " '?',\n",
       " 'The',\n",
       " 'weather',\n",
       " 'is',\n",
       " 'nice',\n",
       " 'today']"
      ]
     },
     "execution_count": 157,
     "metadata": {},
     "output_type": "execute_result"
    }
   ],
   "source": [
    "word_tokenize(example_text_1)"
   ]
  },
  {
   "cell_type": "code",
   "execution_count": null,
   "metadata": {
    "collapsed": true
   },
   "outputs": [],
   "source": []
  }
 ],
 "metadata": {
  "kernelspec": {
   "display_name": "Python 3",
   "language": "python",
   "name": "python3"
  },
  "language_info": {
   "codemirror_mode": {
    "name": "ipython",
    "version": 3
   },
   "file_extension": ".py",
   "mimetype": "text/x-python",
   "name": "python",
   "nbconvert_exporter": "python",
   "pygments_lexer": "ipython3",
   "version": "3.6.1"
  }
 },
 "nbformat": 4,
 "nbformat_minor": 2
}

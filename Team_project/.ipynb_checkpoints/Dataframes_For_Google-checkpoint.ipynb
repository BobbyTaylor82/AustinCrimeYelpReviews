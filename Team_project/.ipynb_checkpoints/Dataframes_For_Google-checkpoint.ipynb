{
 "cells": [
  {
   "cell_type": "markdown",
   "metadata": {},
   "source": [
    "<h2> Table of contents</h2>\n",
    "1. Introduction\n",
    "2. Import libraries\n",
    "3. #############\n",
    "4. ##########\n",
    "5. ###############\n",
    "6. ###############\n",
    "7. ###############\n",
    "8. ###############\n",
    "9. ###############\n",
    "10. ###############\n",
    "11. ###############\n",
    "12. ###############\n",
    "13. Conclusion"
   ]
  },
  {
   "cell_type": "markdown",
   "metadata": {},
   "source": [
    "<h3><u>Instructions</u></h3>"
   ]
  },
  {
   "cell_type": "markdown",
   "metadata": {},
   "source": [
    "<p>something good</p>"
   ]
  },
  {
   "cell_type": "markdown",
   "metadata": {},
   "source": [
    "<h3><u>Import libraries</u></h3>"
   ]
  },
  {
   "cell_type": "code",
   "execution_count": 4,
   "metadata": {
    "collapsed": true
   },
   "outputs": [],
   "source": [
    "import pandas as pd\n",
    "pd.set_option('display.max_columns', 40)\n",
    "pd.set_option('display.max_rows',4000)\n",
    "import matplotlib.pyplot as plt\n",
    "%matplotlib inline \n",
    "import seaborn as sns\n",
    "import requests\n",
    "import json\n",
    "import pprint\n",
    "import numpy as np\n",
    "import warnings\n",
    "warnings.filterwarnings('ignore')\n",
    "from nltk.tokenize import sent_tokenize,word_tokenize\n",
    "from vaderSentiment.vaderSentiment import SentimentIntensityAnalyzer\n",
    "import scipy.stats as stats\n",
    "iopub_data_rate_limit=10000000000\n",
    "plt.rcParams[\"patch.force_edgecolor\"] = True\n",
    "\n"
   ]
  },
  {
   "cell_type": "markdown",
   "metadata": {},
   "source": [
    "<h3><u>Upload Annual_Crime_Austin_2014_to_2016_update.csv </u></h3>"
   ]
  },
  {
   "cell_type": "code",
   "execution_count": 5,
   "metadata": {
    "collapsed": true
   },
   "outputs": [],
   "source": [
    "df_Crime_Austin_2014_to_2016 = pd.read_csv('Final_Crime_Zipcode.csv')"
   ]
  },
  {
   "cell_type": "code",
   "execution_count": 6,
   "metadata": {
    "collapsed": true
   },
   "outputs": [],
   "source": [
    "df_Crime_Austin_2014_to_2016['Zip'] = df_Crime_Austin_2014_to_2016.Zip.astype(str)"
   ]
  },
  {
   "cell_type": "code",
   "execution_count": 7,
   "metadata": {},
   "outputs": [
    {
     "data": {
      "text/html": [
       "<div>\n",
       "<style>\n",
       "    .dataframe thead tr:only-child th {\n",
       "        text-align: right;\n",
       "    }\n",
       "\n",
       "    .dataframe thead th {\n",
       "        text-align: left;\n",
       "    }\n",
       "\n",
       "    .dataframe tbody tr th {\n",
       "        vertical-align: top;\n",
       "    }\n",
       "</style>\n",
       "<table border=\"1\" class=\"dataframe\">\n",
       "  <thead>\n",
       "    <tr style=\"text-align: right;\">\n",
       "      <th></th>\n",
       "      <th>Offense_Description</th>\n",
       "      <th>Report_Date</th>\n",
       "      <th>Full Address</th>\n",
       "      <th>Zip</th>\n",
       "    </tr>\n",
       "  </thead>\n",
       "  <tbody>\n",
       "    <tr>\n",
       "      <th>0</th>\n",
       "      <td>Theft: All Other Larceny</td>\n",
       "      <td>02/24/2014 12:00:00 AM</td>\n",
       "      <td>3101 GUADALUPE ST                             ...</td>\n",
       "      <td>78705</td>\n",
       "    </tr>\n",
       "    <tr>\n",
       "      <th>1</th>\n",
       "      <td>Theft: Shoplifting</td>\n",
       "      <td>08/18/2014 12:00:00 AM</td>\n",
       "      <td>1000 E 41ST ST                                ...</td>\n",
       "      <td>78751</td>\n",
       "    </tr>\n",
       "    <tr>\n",
       "      <th>2</th>\n",
       "      <td>Theft: BOV</td>\n",
       "      <td>08/22/2014 12:00:00 AM</td>\n",
       "      <td>117 W WILLIAM CANNON DR                       ...</td>\n",
       "      <td>78745</td>\n",
       "    </tr>\n",
       "    <tr>\n",
       "      <th>3</th>\n",
       "      <td>Theft: Auto Theft</td>\n",
       "      <td>07/19/2014 12:00:00 AM</td>\n",
       "      <td>6407 SPRINGDALE RD                            ...</td>\n",
       "      <td>78723</td>\n",
       "    </tr>\n",
       "    <tr>\n",
       "      <th>4</th>\n",
       "      <td>Theft: All Other Larceny</td>\n",
       "      <td>07/14/2014 12:00:00 AM</td>\n",
       "      <td>7201 BLESSING AVE                             ...</td>\n",
       "      <td>78752</td>\n",
       "    </tr>\n",
       "  </tbody>\n",
       "</table>\n",
       "</div>"
      ],
      "text/plain": [
       "        Offense_Description             Report_Date  \\\n",
       "0  Theft: All Other Larceny  02/24/2014 12:00:00 AM   \n",
       "1        Theft: Shoplifting  08/18/2014 12:00:00 AM   \n",
       "2                Theft: BOV  08/22/2014 12:00:00 AM   \n",
       "3         Theft: Auto Theft  07/19/2014 12:00:00 AM   \n",
       "4  Theft: All Other Larceny  07/14/2014 12:00:00 AM   \n",
       "\n",
       "                                        Full Address    Zip  \n",
       "0  3101 GUADALUPE ST                             ...  78705  \n",
       "1  1000 E 41ST ST                                ...  78751  \n",
       "2  117 W WILLIAM CANNON DR                       ...  78745  \n",
       "3  6407 SPRINGDALE RD                            ...  78723  \n",
       "4  7201 BLESSING AVE                             ...  78752  "
      ]
     },
     "execution_count": 7,
     "metadata": {},
     "output_type": "execute_result"
    }
   ],
   "source": [
    "df_Crime_Austin_2014_to_2016.head()"
   ]
  },
  {
   "cell_type": "code",
   "execution_count": 8,
   "metadata": {},
   "outputs": [
    {
     "data": {
      "text/plain": [
       "array(['Theft: All Other Larceny', 'Theft: Shoplifting', 'Theft: BOV',\n",
       "       'Theft: Auto Theft', 'Aggravated Assault',\n",
       "       'Burglary: Breaking & Entering', 'Theft: from Building', 'Robbery',\n",
       "       'Theft: Coin Op Machine', 'Theft: Pocket Picking',\n",
       "       'Theft: Auto Parts', 'Theft: Purse Snatching',\n",
       "       'Homicide: Murder & Non-negligent Manslaughter', 'Theft',\n",
       "       'Burglary', 'Agg Assault', 'Murder'], dtype=object)"
      ]
     },
     "execution_count": 8,
     "metadata": {},
     "output_type": "execute_result"
    }
   ],
   "source": [
    "df_Crime_Austin_2014_to_2016.Offense_Description.unique()"
   ]
  },
  {
   "cell_type": "code",
   "execution_count": 27,
   "metadata": {
    "collapsed": true
   },
   "outputs": [],
   "source": [
    "m_group_Offense_Description = {'Theft: All Other Larceny'                     :'Theft',\n",
    "                               'Theft: Shoplifting'                           :'Theft', \n",
    "                               'Theft: BOV'                                   :'Theft',\n",
    "                               'Theft: Auto Theft'                            :'Theft',\n",
    "                               'Aggravated Assault'                           :'Aggravated Assault',\n",
    "                               'Burglary: Breaking & Entering'                :'Burglary', \n",
    "                               'Theft: from Building'                         :'Theft', \n",
    "                               'Robbery'                                      :'Robbery',\n",
    "                               'Theft: Coin Op Machine'                       :'Theft', \n",
    "                               'Theft: Pocket Picking'                        :'Theft',\n",
    "                               'Theft: Auto Parts'                            :'Theft', \n",
    "                               'Theft: Purse Snatching'                       :'Theft',\n",
    "                               'Homicide: Murder & Non-negligent Manslaughter':'Homicide', \n",
    "                               'Theft'                                        :'Theft',\n",
    "                               'Burglary'                                     :'Burglary', \n",
    "                               'Agg Assault'                                  :'Aggravated Assault', \n",
    "                               'Murder'                                       :'Murder'}"
   ]
  },
  {
   "cell_type": "code",
   "execution_count": 28,
   "metadata": {
    "collapsed": true
   },
   "outputs": [],
   "source": [
    "df_Crime_Austin_group_Offense_Description = df_Crime_Austin_2014_to_2016.copy()"
   ]
  },
  {
   "cell_type": "code",
   "execution_count": 29,
   "metadata": {
    "collapsed": true
   },
   "outputs": [],
   "source": [
    "df_Crime_Austin_group_Offense_Description['Offense_Description'] = df_Crime_Austin_group_Offense_Description.Offense_Description.map(m_group_Offense_Description)"
   ]
  },
  {
   "cell_type": "code",
   "execution_count": 30,
   "metadata": {},
   "outputs": [
    {
     "data": {
      "text/plain": [
       "array(['Theft', 'Aggravated Assault', 'Burglary', 'Robbery', 'Homicide',\n",
       "       'Murder'], dtype=object)"
      ]
     },
     "execution_count": 30,
     "metadata": {},
     "output_type": "execute_result"
    }
   ],
   "source": [
    "df_Crime_Austin_group_Offense_Description.Offense_Description.unique()"
   ]
  },
  {
   "cell_type": "code",
   "execution_count": 16,
   "metadata": {
    "collapsed": true
   },
   "outputs": [],
   "source": [
    "#Arwen Here is the five dataframes with new categories to be graph on them cool maps.\n",
    "\n",
    "\n",
    "df_Crime_Theft = df_Crime_Austin_group_Offense_Description[df_Crime_Austin_group_Offense_Description['Offense_Description'] == 'Theft']\n",
    "\n",
    "df_Crime_Aggravated_Assault = df_Crime_Austin_group_Offense_Description[df_Crime_Austin_group_Offense_Description['Offense_Description'] == 'Aggravated Assault']\n",
    "\n",
    "df_Crime_Burglary = df_Crime_Austin_group_Offense_Description[df_Crime_Austin_group_Offense_Description['Offense_Description'] == 'Burglary']\n",
    "\n",
    "df_Crime_Robbery = df_Crime_Austin_group_Offense_Description[df_Crime_Austin_group_Offense_Description['Offense_Description'] == 'Robbery']\n",
    "\n",
    "df_Crime_Homicide = df_Crime_Austin_group_Offense_Description[df_Crime_Austin_group_Offense_Description['Offense_Description'] == 'Homicide']"
   ]
  }
 ],
 "metadata": {
  "kernelspec": {
   "display_name": "Python 3",
   "language": "python",
   "name": "python3"
  },
  "language_info": {
   "codemirror_mode": {
    "name": "ipython",
    "version": 3
   },
   "file_extension": ".py",
   "mimetype": "text/x-python",
   "name": "python",
   "nbconvert_exporter": "python",
   "pygments_lexer": "ipython3",
   "version": "3.6.1"
  }
 },
 "nbformat": 4,
 "nbformat_minor": 2
}
